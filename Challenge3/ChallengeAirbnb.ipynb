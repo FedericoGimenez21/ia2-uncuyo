{
 "cells": [
  {
   "cell_type": "code",
   "execution_count": 16,
   "metadata": {},
   "outputs": [],
   "source": [
    "import numpy as np\n",
    "import sklearn.model_selection as skm\n",
    "from pandas import read_csv\n",
    "import pandas as pd"
   ]
  },
  {
   "cell_type": "code",
   "execution_count": 17,
   "metadata": {},
   "outputs": [],
   "source": [
    "data = read_csv('data/train.csv')"
   ]
  },
  {
   "cell_type": "code",
   "execution_count": 18,
   "metadata": {},
   "outputs": [
    {
     "data": {
      "text/plain": [
       "(74111, 29)"
      ]
     },
     "execution_count": 18,
     "metadata": {},
     "output_type": "execute_result"
    }
   ],
   "source": [
    "data.shape"
   ]
  },
  {
   "cell_type": "code",
   "execution_count": 19,
   "metadata": {},
   "outputs": [
    {
     "data": {
      "text/plain": [
       "id                          int64\n",
       "log_price                 float64\n",
       "property_type              object\n",
       "room_type                  object\n",
       "amenities                  object\n",
       "accommodates                int64\n",
       "bathrooms                 float64\n",
       "bed_type                   object\n",
       "cancellation_policy        object\n",
       "cleaning_fee                 bool\n",
       "city                       object\n",
       "description                object\n",
       "first_review               object\n",
       "host_has_profile_pic       object\n",
       "host_identity_verified     object\n",
       "host_response_rate         object\n",
       "host_since                 object\n",
       "instant_bookable           object\n",
       "last_review                object\n",
       "latitude                  float64\n",
       "longitude                 float64\n",
       "name                       object\n",
       "neighbourhood              object\n",
       "number_of_reviews           int64\n",
       "review_scores_rating      float64\n",
       "thumbnail_url              object\n",
       "zipcode                    object\n",
       "bedrooms                  float64\n",
       "beds                      float64\n",
       "dtype: object"
      ]
     },
     "execution_count": 19,
     "metadata": {},
     "output_type": "execute_result"
    }
   ],
   "source": [
    "data.dtypes\n"
   ]
  },
  {
   "cell_type": "code",
   "execution_count": 20,
   "metadata": {},
   "outputs": [],
   "source": [
    "prueba=data[:10]"
   ]
  },
  {
   "cell_type": "code",
   "execution_count": 21,
   "metadata": {},
   "outputs": [],
   "source": [
    "# from tensorflow.keras.utils import to_categorical\n",
    "\n",
    "# yprueba=to_categorical(prueba)"
   ]
  },
  {
   "cell_type": "code",
   "execution_count": 22,
   "metadata": {},
   "outputs": [],
   "source": [
    "# data"
   ]
  },
  {
   "cell_type": "code",
   "execution_count": 23,
   "metadata": {},
   "outputs": [],
   "source": [
    "df=data.drop(['property_type',              \n",
    "'room_type',                  \n",
    "'amenities', \n",
    "'bed_type',                   \n",
    "'cancellation_policy',\n",
    "'city',                       \n",
    "'description',                \n",
    "'first_review',              \n",
    "'host_has_profile_pic',   \n",
    "'host_identity_verified',    \n",
    "'host_response_rate',         \n",
    "'host_since',                 \n",
    "'instant_bookable' ,          \n",
    "'last_review',\n",
    "'name',                       \n",
    "'neighbourhood',\n",
    "'thumbnail_url' ,              \n",
    "'zipcode'],axis=1)\n",
    "\n"
   ]
  },
  {
   "cell_type": "code",
   "execution_count": 24,
   "metadata": {},
   "outputs": [
    {
     "name": "stdout",
     "output_type": "stream",
     "text": [
      "<class 'pandas.core.frame.DataFrame'>\n",
      "(42846, 11)\n",
      "Index(['id', 'accommodates', 'bathrooms', 'cleaning_fee', 'latitude',\n",
      "       'longitude', 'number_of_reviews', 'review_scores_rating', 'bedrooms',\n",
      "       'beds'],\n",
      "      dtype='object')\n",
      "<class 'numpy.ndarray'>\n",
      "<class 'numpy.ndarray'>\n"
     ]
    }
   ],
   "source": [
    "data= pd.DataFrame(df)\n",
    "data=data.dropna()\n",
    "train_data,test_data =skm.train_test_split(data,\n",
    "                                test_size = 0.25,\n",
    "                                random_state = 100)\n",
    "print(type(train_data))\n",
    "print(train_data.shape)\n",
    "\n",
    "mitadTrain=int(train_data.shape[0]/2)\n",
    "train_data, train_targets =  train_data[mitadTrain:],train_data[:mitadTrain] \n",
    "\n",
    "train_data=train_data.drop(['log_price'],axis=1)\n",
    "train_targets = train_targets['log_price']\n",
    "print(train_data.columns)\n",
    "data=data.to_numpy()\n",
    "train_data=train_data.to_numpy()\n",
    "train_targets=train_targets.to_numpy()\n",
    "\n",
    "\n",
    "mitadTest=int(test_data.shape[0]/2)\n",
    "test_data, test_targets =  test_data[mitadTest:],test_data[:mitadTest] \n",
    "test_data=test_data.drop(['log_price'],axis=1)\n",
    "test_targets=test_targets['log_price']\n",
    "test_data=test_data.to_numpy()\n",
    "test_targets=test_targets.to_numpy()\n",
    "\n",
    "\n",
    "print(type(train_data))\n",
    "print(type(test_data))"
   ]
  },
  {
   "cell_type": "code",
   "execution_count": 25,
   "metadata": {},
   "outputs": [],
   "source": [
    "# train_data,test_data =skm.train_test_split(data,\n",
    "#                                 test_size = 0.25,\n",
    "#                                 random_state = 100)"
   ]
  },
  {
   "cell_type": "code",
   "execution_count": 26,
   "metadata": {},
   "outputs": [
    {
     "data": {
      "text/plain": [
       "21423"
      ]
     },
     "execution_count": 26,
     "metadata": {},
     "output_type": "execute_result"
    }
   ],
   "source": [
    "train_data.shape[0]"
   ]
  },
  {
   "cell_type": "code",
   "execution_count": 27,
   "metadata": {},
   "outputs": [
    {
     "data": {
      "text/plain": [
       "10"
      ]
     },
     "execution_count": 27,
     "metadata": {},
     "output_type": "execute_result"
    }
   ],
   "source": [
    "train_data.shape[1]"
   ]
  },
  {
   "cell_type": "code",
   "execution_count": 28,
   "metadata": {},
   "outputs": [
    {
     "data": {
      "text/plain": [
       "(7142, 10)"
      ]
     },
     "execution_count": 28,
     "metadata": {},
     "output_type": "execute_result"
    }
   ],
   "source": [
    "test_data.shape"
   ]
  },
  {
   "cell_type": "code",
   "execution_count": 29,
   "metadata": {},
   "outputs": [],
   "source": [
    "train_data= train_data.reshape((train_data.shape[0], train_data.shape[1]))\n",
    "train_data= train_data.astype(\"float32\") / 255\n",
    "\n",
    "\n",
    "train_targets= train_targets.reshape((train_targets.shape[0], ))\n",
    "train_targets= train_targets.astype(\"float32\") / 255\n",
    "\n",
    "test_data = test_data.reshape((test_data.shape[0],test_data.shape[1] ))\n",
    "test_data = test_data.astype(\"float32\") / 255\n",
    "\n",
    "test_targets= test_targets.reshape((test_targets.shape[0], ))\n",
    "test_targets= test_targets.astype(\"float32\") / 255"
   ]
  },
  {
   "cell_type": "code",
   "execution_count": 30,
   "metadata": {},
   "outputs": [
    {
     "data": {
      "text/plain": [
       "dtype('float32')"
      ]
     },
     "execution_count": 30,
     "metadata": {},
     "output_type": "execute_result"
    }
   ],
   "source": [
    "train_data.dtype\n"
   ]
  },
  {
   "cell_type": "code",
   "execution_count": 31,
   "metadata": {},
   "outputs": [
    {
     "data": {
      "text/plain": [
       "array([[6.6764922e+04, 7.8431377e-03, 3.9215689e-03, ..., 3.7647060e-01,\n",
       "        0.0000000e+00, 3.9215689e-03],\n",
       "       [4.1361352e+04, 1.1764706e-02, 7.8431377e-03, ..., 3.7254903e-01,\n",
       "        3.9215689e-03, 7.8431377e-03],\n",
       "       [1.8947809e+04, 1.5686275e-02, 3.9215689e-03, ..., 3.9215687e-01,\n",
       "        3.9215689e-03, 3.9215689e-03],\n",
       "       ...,\n",
       "       [6.3391898e+04, 1.1764706e-02, 3.9215689e-03, ..., 3.8431373e-01,\n",
       "        3.9215689e-03, 3.9215689e-03],\n",
       "       [6.8332992e+04, 1.1764706e-02, 3.9215689e-03, ..., 3.9215687e-01,\n",
       "        3.9215689e-03, 7.8431377e-03],\n",
       "       [6.1212059e+04, 1.5686275e-02, 3.9215689e-03, ..., 3.7254903e-01,\n",
       "        0.0000000e+00, 3.9215689e-03]], dtype=float32)"
      ]
     },
     "execution_count": 31,
     "metadata": {},
     "output_type": "execute_result"
    }
   ],
   "source": [
    "train_data"
   ]
  },
  {
   "cell_type": "code",
   "execution_count": 32,
   "metadata": {},
   "outputs": [
    {
     "data": {
      "text/plain": [
       "dtype('float32')"
      ]
     },
     "execution_count": 32,
     "metadata": {},
     "output_type": "execute_result"
    }
   ],
   "source": [
    "test_data.dtype"
   ]
  },
  {
   "cell_type": "code",
   "execution_count": 33,
   "metadata": {},
   "outputs": [
    {
     "data": {
      "text/plain": [
       "(21423, 10)"
      ]
     },
     "execution_count": 33,
     "metadata": {},
     "output_type": "execute_result"
    }
   ],
   "source": [
    "train_data.shape"
   ]
  },
  {
   "cell_type": "code",
   "execution_count": 34,
   "metadata": {},
   "outputs": [
    {
     "data": {
      "text/plain": [
       "21423"
      ]
     },
     "execution_count": 34,
     "metadata": {},
     "output_type": "execute_result"
    }
   ],
   "source": [
    "train_data.shape[0]"
   ]
  },
  {
   "cell_type": "code",
   "execution_count": 35,
   "metadata": {},
   "outputs": [
    {
     "data": {
      "text/plain": [
       "(7142, 10)"
      ]
     },
     "execution_count": 35,
     "metadata": {},
     "output_type": "execute_result"
    }
   ],
   "source": [
    "test_data.shape"
   ]
  },
  {
   "cell_type": "code",
   "execution_count": 36,
   "metadata": {},
   "outputs": [
    {
     "name": "stdout",
     "output_type": "stream",
     "text": [
      "4284.6\n"
     ]
    }
   ],
   "source": [
    "lenTargetTrain=train_data.shape[0]*20/100\n",
    "print(lenTargetTrain)"
   ]
  },
  {
   "cell_type": "code",
   "execution_count": 37,
   "metadata": {},
   "outputs": [
    {
     "name": "stdout",
     "output_type": "stream",
     "text": [
      "1428.4\n"
     ]
    }
   ],
   "source": [
    "lenTargetTest=test_data.shape[0]*20/100\n",
    "print(lenTargetTest)"
   ]
  },
  {
   "cell_type": "code",
   "execution_count": 38,
   "metadata": {},
   "outputs": [
    {
     "data": {
      "text/plain": [
       "10711.5"
      ]
     },
     "execution_count": 38,
     "metadata": {},
     "output_type": "execute_result"
    }
   ],
   "source": [
    "train_data.shape[0]/2"
   ]
  },
  {
   "cell_type": "code",
   "execution_count": 39,
   "metadata": {},
   "outputs": [],
   "source": [
    "# mitadTrain=int(train_data.shape[0]/2)\n",
    "# train_data, train_targets =  train_data[mitadTrain:],train_data[:mitadTrain] \n",
    "# test_data, test_targets =  test_data[int(lenTargetTest):], test_data[:int(lenTargetTest)]"
   ]
  },
  {
   "cell_type": "code",
   "execution_count": 40,
   "metadata": {},
   "outputs": [],
   "source": [
    "# train_data, train_targets =  train_data[int(lenTargetTrain):],train_data[:int(lenTargetTrain)] \n",
    "# test_data, test_targets =  test_data[int(lenTargetTest):], test_data[:int(lenTargetTest)]"
   ]
  },
  {
   "cell_type": "code",
   "execution_count": 41,
   "metadata": {},
   "outputs": [
    {
     "data": {
      "text/plain": [
       "(21423, 10)"
      ]
     },
     "execution_count": 41,
     "metadata": {},
     "output_type": "execute_result"
    }
   ],
   "source": [
    "train_data.shape"
   ]
  },
  {
   "cell_type": "code",
   "execution_count": 42,
   "metadata": {},
   "outputs": [
    {
     "data": {
      "text/plain": [
       "(21423,)"
      ]
     },
     "execution_count": 42,
     "metadata": {},
     "output_type": "execute_result"
    }
   ],
   "source": [
    "train_targets.shape"
   ]
  },
  {
   "cell_type": "code",
   "execution_count": 43,
   "metadata": {},
   "outputs": [
    {
     "data": {
      "text/plain": [
       "(7142, 10)"
      ]
     },
     "execution_count": 43,
     "metadata": {},
     "output_type": "execute_result"
    }
   ],
   "source": [
    "test_data.shape"
   ]
  },
  {
   "cell_type": "code",
   "execution_count": 44,
   "metadata": {},
   "outputs": [],
   "source": [
    "# test_targets.shape"
   ]
  },
  {
   "cell_type": "code",
   "execution_count": null,
   "metadata": {},
   "outputs": [],
   "source": []
  },
  {
   "cell_type": "markdown",
   "metadata": {},
   "source": [
    "Normalizing the data"
   ]
  },
  {
   "cell_type": "code",
   "execution_count": 45,
   "metadata": {},
   "outputs": [],
   "source": [
    "# from sklearn import preprocessing"
   ]
  },
  {
   "cell_type": "code",
   "execution_count": 46,
   "metadata": {},
   "outputs": [],
   "source": [
    "# scaler = preprocessing.MinMaxScaler()\n",
    "# scaler.fit(train_data.drop('log_price', axis = 1))"
   ]
  },
  {
   "cell_type": "code",
   "execution_count": 47,
   "metadata": {},
   "outputs": [],
   "source": [
    "# from tensorflow.keras.utils import to_categorical\n",
    "# y_train = to_categorical(train_targets)\n",
    "# y_test = to_categorical(test_targets)"
   ]
  },
  {
   "cell_type": "code",
   "execution_count": 48,
   "metadata": {},
   "outputs": [],
   "source": [
    "# mean = train_data.mean(axis=0)\n",
    "# train_data -= mean\n",
    "# std = train_data.std(axis=0)\n",
    "# train_data /= std\n",
    "# test_data -= mean\n",
    "# test_data /= std"
   ]
  },
  {
   "cell_type": "markdown",
   "metadata": {},
   "source": [
    "Building your model"
   ]
  },
  {
   "cell_type": "code",
   "execution_count": 49,
   "metadata": {},
   "outputs": [],
   "source": [
    "from tensorflow import keras\n",
    "import tensorflow as tf"
   ]
  },
  {
   "cell_type": "code",
   "execution_count": 50,
   "metadata": {},
   "outputs": [
    {
     "data": {
      "text/plain": [
       "array([[6.6764922e+04, 7.8431377e-03, 3.9215689e-03, ..., 3.7647060e-01,\n",
       "        0.0000000e+00, 3.9215689e-03],\n",
       "       [4.1361352e+04, 1.1764706e-02, 7.8431377e-03, ..., 3.7254903e-01,\n",
       "        3.9215689e-03, 7.8431377e-03],\n",
       "       [1.8947809e+04, 1.5686275e-02, 3.9215689e-03, ..., 3.9215687e-01,\n",
       "        3.9215689e-03, 3.9215689e-03],\n",
       "       ...,\n",
       "       [6.3391898e+04, 1.1764706e-02, 3.9215689e-03, ..., 3.8431373e-01,\n",
       "        3.9215689e-03, 3.9215689e-03],\n",
       "       [6.8332992e+04, 1.1764706e-02, 3.9215689e-03, ..., 3.9215687e-01,\n",
       "        3.9215689e-03, 7.8431377e-03],\n",
       "       [6.1212059e+04, 1.5686275e-02, 3.9215689e-03, ..., 3.7254903e-01,\n",
       "        0.0000000e+00, 3.9215689e-03]], dtype=float32)"
      ]
     },
     "execution_count": 50,
     "metadata": {},
     "output_type": "execute_result"
    }
   ],
   "source": [
    "train_data"
   ]
  },
  {
   "cell_type": "code",
   "execution_count": 51,
   "metadata": {},
   "outputs": [
    {
     "data": {
      "text/plain": [
       "array([0.01465753, 0.01923637, 0.01592331, ..., 0.01964955, 0.02025406,\n",
       "       0.01436691], dtype=float32)"
      ]
     },
     "execution_count": 51,
     "metadata": {},
     "output_type": "execute_result"
    }
   ],
   "source": [
    "train_targets"
   ]
  },
  {
   "cell_type": "code",
   "execution_count": 52,
   "metadata": {},
   "outputs": [
    {
     "name": "stdout",
     "output_type": "stream",
     "text": [
      "Epoch 1/20\n",
      "168/168 [==============================] - 1s 1ms/step - loss: 1225171.2500 - mae: 836.9160\n",
      "Epoch 2/20\n",
      "168/168 [==============================] - 0s 1ms/step - loss: 624845.3750 - mae: 662.1854\n",
      "Epoch 3/20\n",
      "168/168 [==============================] - 0s 1ms/step - loss: 323711.4375 - mae: 475.0194\n",
      "Epoch 4/20\n",
      "168/168 [==============================] - 0s 2ms/step - loss: 191373.5625 - mae: 361.4431\n",
      "Epoch 5/20\n",
      "168/168 [==============================] - 0s 1ms/step - loss: 120162.0000 - mae: 281.2370\n",
      "Epoch 6/20\n",
      "168/168 [==============================] - 0s 1ms/step - loss: 66159.0469 - mae: 211.7646\n",
      "Epoch 7/20\n",
      "168/168 [==============================] - 0s 1ms/step - loss: 43506.2500 - mae: 172.3705\n",
      "Epoch 8/20\n",
      "168/168 [==============================] - 0s 1ms/step - loss: 29856.9434 - mae: 141.3225\n",
      "Epoch 9/20\n",
      "168/168 [==============================] - 0s 1ms/step - loss: 20345.4297 - mae: 115.4961\n",
      "Epoch 10/20\n",
      "168/168 [==============================] - 0s 1ms/step - loss: 13591.9170 - mae: 98.1253\n",
      "Epoch 11/20\n",
      "168/168 [==============================] - 0s 1ms/step - loss: 10561.4619 - mae: 86.1368\n",
      "Epoch 12/20\n",
      "168/168 [==============================] - 0s 1ms/step - loss: 7891.3809 - mae: 73.0464\n",
      "Epoch 13/20\n",
      "168/168 [==============================] - 0s 1ms/step - loss: 5805.6094 - mae: 64.4562\n",
      "Epoch 14/20\n",
      "168/168 [==============================] - 0s 2ms/step - loss: 4073.3943 - mae: 53.8867\n",
      "Epoch 15/20\n",
      "168/168 [==============================] - 0s 1ms/step - loss: 2991.7664 - mae: 44.1423\n",
      "Epoch 16/20\n",
      "168/168 [==============================] - 0s 1ms/step - loss: 2116.8101 - mae: 38.1745\n",
      "Epoch 17/20\n",
      "168/168 [==============================] - 0s 1ms/step - loss: 1573.9304 - mae: 32.3895\n",
      "Epoch 18/20\n",
      "168/168 [==============================] - 0s 1ms/step - loss: 1316.4456 - mae: 31.1490\n",
      "Epoch 19/20\n",
      "168/168 [==============================] - 0s 1ms/step - loss: 995.5427 - mae: 26.0328\n",
      "Epoch 20/20\n",
      "168/168 [==============================] - 0s 1ms/step - loss: 692.8821 - mae: 21.0998\n"
     ]
    },
    {
     "data": {
      "text/plain": [
       "<keras.src.callbacks.History at 0x1e4daaf6050>"
      ]
     },
     "execution_count": 52,
     "metadata": {},
     "output_type": "execute_result"
    }
   ],
   "source": [
    "model = keras.Sequential([\n",
    "    keras.layers.Dense(128, activation=\"relu\"),\n",
    "    keras.layers.Dense(128, activation=\"relu\"),\n",
    "    keras.layers.Dense(1)\n",
    "])\n",
    "model.compile(optimizer=\"rmsprop\", loss=\"mse\", metrics=[\"mae\"])\n",
    "model.fit(train_data, train_targets, epochs=20, batch_size=128)"
   ]
  },
  {
   "cell_type": "code",
   "execution_count": 53,
   "metadata": {},
   "outputs": [
    {
     "name": "stdout",
     "output_type": "stream",
     "text": [
      "224/224 [==============================] - 0s 830us/step\n"
     ]
    },
    {
     "data": {
      "text/plain": [
       "array([-56.136692], dtype=float32)"
      ]
     },
     "execution_count": 53,
     "metadata": {},
     "output_type": "execute_result"
    }
   ],
   "source": [
    "predictions = model.predict(test_data)\n",
    "predictions[0]"
   ]
  },
  {
   "cell_type": "code",
   "execution_count": 55,
   "metadata": {},
   "outputs": [
    {
     "name": "stdout",
     "output_type": "stream",
     "text": [
      "224/224 [==============================] - 0s 1ms/step - loss: 1367.4790 - mae: 32.5761\n",
      "mae: 32.576141357421875\n"
     ]
    }
   ],
   "source": [
    "if test_data.shape[0]!=test_targets[0]:\n",
    "    test_data=test_data[:test_data.shape[0]-1]\n",
    "mse, mae = model.evaluate(test_data, test_targets)\n",
    "print(f\"mae: {mae}\")"
   ]
  }
 ],
 "metadata": {
  "kernelspec": {
   "display_name": "Ch4",
   "language": "python",
   "name": "python3"
  },
  "language_info": {
   "codemirror_mode": {
    "name": "ipython",
    "version": 3
   },
   "file_extension": ".py",
   "mimetype": "text/x-python",
   "name": "python",
   "nbconvert_exporter": "python",
   "pygments_lexer": "ipython3",
   "version": "3.10.4"
  },
  "orig_nbformat": 4
 },
 "nbformat": 4,
 "nbformat_minor": 2
}
