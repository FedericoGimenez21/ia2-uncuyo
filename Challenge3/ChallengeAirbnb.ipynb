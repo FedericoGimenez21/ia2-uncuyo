{
 "cells": [
  {
   "cell_type": "code",
   "execution_count": 75,
   "metadata": {},
   "outputs": [],
   "source": [
    "import numpy as np\n",
    "import sklearn.model_selection as skm\n",
    "from pandas import read_csv\n",
    "import pandas as pd"
   ]
  },
  {
   "cell_type": "code",
   "execution_count": 76,
   "metadata": {},
   "outputs": [],
   "source": [
    "data = read_csv('data/train.csv')"
   ]
  },
  {
   "cell_type": "code",
   "execution_count": 77,
   "metadata": {},
   "outputs": [
    {
     "data": {
      "text/plain": [
       "(74111, 29)"
      ]
     },
     "execution_count": 77,
     "metadata": {},
     "output_type": "execute_result"
    }
   ],
   "source": [
    "data.shape"
   ]
  },
  {
   "cell_type": "code",
   "execution_count": 78,
   "metadata": {},
   "outputs": [
    {
     "data": {
      "text/plain": [
       "id                          int64\n",
       "log_price                 float64\n",
       "property_type              object\n",
       "room_type                  object\n",
       "amenities                  object\n",
       "accommodates                int64\n",
       "bathrooms                 float64\n",
       "bed_type                   object\n",
       "cancellation_policy        object\n",
       "cleaning_fee                 bool\n",
       "city                       object\n",
       "description                object\n",
       "first_review               object\n",
       "host_has_profile_pic       object\n",
       "host_identity_verified     object\n",
       "host_response_rate         object\n",
       "host_since                 object\n",
       "instant_bookable           object\n",
       "last_review                object\n",
       "latitude                  float64\n",
       "longitude                 float64\n",
       "name                       object\n",
       "neighbourhood              object\n",
       "number_of_reviews           int64\n",
       "review_scores_rating      float64\n",
       "thumbnail_url              object\n",
       "zipcode                    object\n",
       "bedrooms                  float64\n",
       "beds                      float64\n",
       "dtype: object"
      ]
     },
     "execution_count": 78,
     "metadata": {},
     "output_type": "execute_result"
    }
   ],
   "source": [
    "data.dtypes\n"
   ]
  },
  {
   "cell_type": "code",
   "execution_count": 79,
   "metadata": {},
   "outputs": [],
   "source": [
    "prueba=data[:10]"
   ]
  },
  {
   "cell_type": "code",
   "execution_count": 80,
   "metadata": {},
   "outputs": [],
   "source": [
    "# from tensorflow.keras.utils import to_categorical\n",
    "\n",
    "# yprueba=to_categorical(prueba)"
   ]
  },
  {
   "cell_type": "code",
   "execution_count": 81,
   "metadata": {},
   "outputs": [],
   "source": [
    "# data"
   ]
  },
  {
   "cell_type": "code",
   "execution_count": 82,
   "metadata": {},
   "outputs": [],
   "source": [
    "df=data.drop(['property_type',              \n",
    "'room_type',                  \n",
    "'amenities', \n",
    "'bed_type',                   \n",
    "'cancellation_policy',\n",
    "'city',                       \n",
    "'description',                \n",
    "'first_review',              \n",
    "'host_has_profile_pic',   \n",
    "'host_identity_verified',    \n",
    "'host_response_rate',         \n",
    "'host_since',                 \n",
    "'instant_bookable' ,          \n",
    "'last_review',\n",
    "'name',                       \n",
    "'neighbourhood',\n",
    "'thumbnail_url' ,              \n",
    "'zipcode'],axis=1)\n",
    "\n"
   ]
  },
  {
   "cell_type": "code",
   "execution_count": 83,
   "metadata": {},
   "outputs": [
    {
     "name": "stdout",
     "output_type": "stream",
     "text": [
      "<class 'pandas.core.frame.DataFrame'>\n",
      "(42846, 11)\n",
      "Index(['id', 'accommodates', 'bathrooms', 'cleaning_fee', 'latitude',\n",
      "       'longitude', 'number_of_reviews', 'review_scores_rating', 'bedrooms',\n",
      "       'beds'],\n",
      "      dtype='object')\n",
      "<class 'numpy.ndarray'>\n",
      "<class 'numpy.ndarray'>\n"
     ]
    }
   ],
   "source": [
    "data= pd.DataFrame(df)\n",
    "data=data.dropna()\n",
    "train_data,test_data =skm.train_test_split(data,\n",
    "                                test_size = 0.25,\n",
    "                                random_state = 100)\n",
    "print(type(train_data))\n",
    "print(train_data.shape)\n",
    "\n",
    "mitadTrain=int(train_data.shape[0]/2)\n",
    "train_data, train_targets =  train_data[mitadTrain:],train_data[:mitadTrain] \n",
    "\n",
    "train_data=train_data.drop(['log_price'],axis=1)\n",
    "train_targets = train_targets['log_price']\n",
    "print(train_data.columns)\n",
    "data=data.to_numpy()\n",
    "train_data=train_data.to_numpy()\n",
    "train_targets=train_targets.to_numpy()\n",
    "\n",
    "test_data=test_data['log_price']\n",
    "test_data=test_data.to_numpy()\n",
    "\n",
    "print(type(train_data))\n",
    "print(type(test_data))"
   ]
  },
  {
   "cell_type": "code",
   "execution_count": 84,
   "metadata": {},
   "outputs": [],
   "source": [
    "# train_data,test_data =skm.train_test_split(data,\n",
    "#                                 test_size = 0.25,\n",
    "#                                 random_state = 100)"
   ]
  },
  {
   "cell_type": "code",
   "execution_count": 85,
   "metadata": {},
   "outputs": [
    {
     "data": {
      "text/plain": [
       "21423"
      ]
     },
     "execution_count": 85,
     "metadata": {},
     "output_type": "execute_result"
    }
   ],
   "source": [
    "train_data.shape[0]"
   ]
  },
  {
   "cell_type": "code",
   "execution_count": 86,
   "metadata": {},
   "outputs": [
    {
     "data": {
      "text/plain": [
       "10"
      ]
     },
     "execution_count": 86,
     "metadata": {},
     "output_type": "execute_result"
    }
   ],
   "source": [
    "train_data.shape[1]"
   ]
  },
  {
   "cell_type": "code",
   "execution_count": 87,
   "metadata": {},
   "outputs": [
    {
     "data": {
      "text/plain": [
       "(14283,)"
      ]
     },
     "execution_count": 87,
     "metadata": {},
     "output_type": "execute_result"
    }
   ],
   "source": [
    "test_data.shape"
   ]
  },
  {
   "cell_type": "code",
   "execution_count": 88,
   "metadata": {},
   "outputs": [],
   "source": [
    "train_data= train_data.reshape((train_data.shape[0], train_data.shape[1]))\n",
    "train_data= train_data.astype(\"float32\") / 255\n",
    "\n",
    "\n",
    "train_targets= train_targets.reshape((train_targets.shape[0], ))\n",
    "train_targets= train_targets.astype(\"float32\") / 255\n",
    "\n",
    "test_data = test_data.reshape((test_data.shape[0], ))\n",
    "test_data = test_data.astype(\"float32\") / 255"
   ]
  },
  {
   "cell_type": "code",
   "execution_count": 89,
   "metadata": {},
   "outputs": [
    {
     "data": {
      "text/plain": [
       "dtype('float32')"
      ]
     },
     "execution_count": 89,
     "metadata": {},
     "output_type": "execute_result"
    }
   ],
   "source": [
    "train_data.dtype\n"
   ]
  },
  {
   "cell_type": "code",
   "execution_count": 90,
   "metadata": {},
   "outputs": [
    {
     "data": {
      "text/plain": [
       "array([[6.6764922e+04, 7.8431377e-03, 3.9215689e-03, ..., 3.7647060e-01,\n",
       "        0.0000000e+00, 3.9215689e-03],\n",
       "       [4.1361352e+04, 1.1764706e-02, 7.8431377e-03, ..., 3.7254903e-01,\n",
       "        3.9215689e-03, 7.8431377e-03],\n",
       "       [1.8947809e+04, 1.5686275e-02, 3.9215689e-03, ..., 3.9215687e-01,\n",
       "        3.9215689e-03, 3.9215689e-03],\n",
       "       ...,\n",
       "       [6.3391898e+04, 1.1764706e-02, 3.9215689e-03, ..., 3.8431373e-01,\n",
       "        3.9215689e-03, 3.9215689e-03],\n",
       "       [6.8332992e+04, 1.1764706e-02, 3.9215689e-03, ..., 3.9215687e-01,\n",
       "        3.9215689e-03, 7.8431377e-03],\n",
       "       [6.1212059e+04, 1.5686275e-02, 3.9215689e-03, ..., 3.7254903e-01,\n",
       "        0.0000000e+00, 3.9215689e-03]], dtype=float32)"
      ]
     },
     "execution_count": 90,
     "metadata": {},
     "output_type": "execute_result"
    }
   ],
   "source": [
    "train_data"
   ]
  },
  {
   "cell_type": "code",
   "execution_count": 91,
   "metadata": {},
   "outputs": [
    {
     "data": {
      "text/plain": [
       "dtype('float32')"
      ]
     },
     "execution_count": 91,
     "metadata": {},
     "output_type": "execute_result"
    }
   ],
   "source": [
    "test_data.dtype"
   ]
  },
  {
   "cell_type": "code",
   "execution_count": 92,
   "metadata": {},
   "outputs": [
    {
     "data": {
      "text/plain": [
       "(21423, 10)"
      ]
     },
     "execution_count": 92,
     "metadata": {},
     "output_type": "execute_result"
    }
   ],
   "source": [
    "train_data.shape"
   ]
  },
  {
   "cell_type": "code",
   "execution_count": 93,
   "metadata": {},
   "outputs": [
    {
     "data": {
      "text/plain": [
       "21423"
      ]
     },
     "execution_count": 93,
     "metadata": {},
     "output_type": "execute_result"
    }
   ],
   "source": [
    "train_data.shape[0]"
   ]
  },
  {
   "cell_type": "code",
   "execution_count": 94,
   "metadata": {},
   "outputs": [
    {
     "data": {
      "text/plain": [
       "(14283,)"
      ]
     },
     "execution_count": 94,
     "metadata": {},
     "output_type": "execute_result"
    }
   ],
   "source": [
    "test_data.shape"
   ]
  },
  {
   "cell_type": "code",
   "execution_count": 95,
   "metadata": {},
   "outputs": [
    {
     "name": "stdout",
     "output_type": "stream",
     "text": [
      "4284.6\n"
     ]
    }
   ],
   "source": [
    "lenTargetTrain=train_data.shape[0]*20/100\n",
    "print(lenTargetTrain)"
   ]
  },
  {
   "cell_type": "code",
   "execution_count": 96,
   "metadata": {},
   "outputs": [
    {
     "name": "stdout",
     "output_type": "stream",
     "text": [
      "2856.6\n"
     ]
    }
   ],
   "source": [
    "lenTargetTest=test_data.shape[0]*20/100\n",
    "print(lenTargetTest)"
   ]
  },
  {
   "cell_type": "code",
   "execution_count": 97,
   "metadata": {},
   "outputs": [
    {
     "data": {
      "text/plain": [
       "10711.5"
      ]
     },
     "execution_count": 97,
     "metadata": {},
     "output_type": "execute_result"
    }
   ],
   "source": [
    "train_data.shape[0]/2"
   ]
  },
  {
   "cell_type": "code",
   "execution_count": 98,
   "metadata": {},
   "outputs": [],
   "source": [
    "# mitadTrain=int(train_data.shape[0]/2)\n",
    "# train_data, train_targets =  train_data[mitadTrain:],train_data[:mitadTrain] \n",
    "# test_data, test_targets =  test_data[int(lenTargetTest):], test_data[:int(lenTargetTest)]"
   ]
  },
  {
   "cell_type": "code",
   "execution_count": 99,
   "metadata": {},
   "outputs": [],
   "source": [
    "# train_data, train_targets =  train_data[int(lenTargetTrain):],train_data[:int(lenTargetTrain)] \n",
    "# test_data, test_targets =  test_data[int(lenTargetTest):], test_data[:int(lenTargetTest)]"
   ]
  },
  {
   "cell_type": "code",
   "execution_count": 100,
   "metadata": {},
   "outputs": [
    {
     "data": {
      "text/plain": [
       "(21423, 10)"
      ]
     },
     "execution_count": 100,
     "metadata": {},
     "output_type": "execute_result"
    }
   ],
   "source": [
    "train_data.shape"
   ]
  },
  {
   "cell_type": "code",
   "execution_count": 101,
   "metadata": {},
   "outputs": [
    {
     "data": {
      "text/plain": [
       "(21423,)"
      ]
     },
     "execution_count": 101,
     "metadata": {},
     "output_type": "execute_result"
    }
   ],
   "source": [
    "train_targets.shape"
   ]
  },
  {
   "cell_type": "code",
   "execution_count": 102,
   "metadata": {},
   "outputs": [
    {
     "data": {
      "text/plain": [
       "(14283,)"
      ]
     },
     "execution_count": 102,
     "metadata": {},
     "output_type": "execute_result"
    }
   ],
   "source": [
    "test_data.shape"
   ]
  },
  {
   "cell_type": "code",
   "execution_count": 103,
   "metadata": {},
   "outputs": [],
   "source": [
    "# test_targets.shape"
   ]
  },
  {
   "cell_type": "code",
   "execution_count": null,
   "metadata": {},
   "outputs": [],
   "source": []
  },
  {
   "cell_type": "markdown",
   "metadata": {},
   "source": [
    "Normalizing the data"
   ]
  },
  {
   "cell_type": "code",
   "execution_count": 104,
   "metadata": {},
   "outputs": [],
   "source": [
    "# from sklearn import preprocessing"
   ]
  },
  {
   "cell_type": "code",
   "execution_count": 105,
   "metadata": {},
   "outputs": [],
   "source": [
    "# scaler = preprocessing.MinMaxScaler()\n",
    "# scaler.fit(train_data.drop('log_price', axis = 1))"
   ]
  },
  {
   "cell_type": "code",
   "execution_count": 106,
   "metadata": {},
   "outputs": [],
   "source": [
    "# from tensorflow.keras.utils import to_categorical\n",
    "# y_train = to_categorical(train_targets)\n",
    "# y_test = to_categorical(test_targets)"
   ]
  },
  {
   "cell_type": "code",
   "execution_count": 107,
   "metadata": {},
   "outputs": [],
   "source": [
    "# mean = train_data.mean(axis=0)\n",
    "# train_data -= mean\n",
    "# std = train_data.std(axis=0)\n",
    "# train_data /= std\n",
    "# test_data -= mean\n",
    "# test_data /= std"
   ]
  },
  {
   "cell_type": "markdown",
   "metadata": {},
   "source": [
    "Building your model"
   ]
  },
  {
   "cell_type": "code",
   "execution_count": 108,
   "metadata": {},
   "outputs": [],
   "source": [
    "from tensorflow import keras\n",
    "import tensorflow as tf"
   ]
  },
  {
   "cell_type": "code",
   "execution_count": 109,
   "metadata": {},
   "outputs": [
    {
     "data": {
      "text/plain": [
       "array([[6.6764922e+04, 7.8431377e-03, 3.9215689e-03, ..., 3.7647060e-01,\n",
       "        0.0000000e+00, 3.9215689e-03],\n",
       "       [4.1361352e+04, 1.1764706e-02, 7.8431377e-03, ..., 3.7254903e-01,\n",
       "        3.9215689e-03, 7.8431377e-03],\n",
       "       [1.8947809e+04, 1.5686275e-02, 3.9215689e-03, ..., 3.9215687e-01,\n",
       "        3.9215689e-03, 3.9215689e-03],\n",
       "       ...,\n",
       "       [6.3391898e+04, 1.1764706e-02, 3.9215689e-03, ..., 3.8431373e-01,\n",
       "        3.9215689e-03, 3.9215689e-03],\n",
       "       [6.8332992e+04, 1.1764706e-02, 3.9215689e-03, ..., 3.9215687e-01,\n",
       "        3.9215689e-03, 7.8431377e-03],\n",
       "       [6.1212059e+04, 1.5686275e-02, 3.9215689e-03, ..., 3.7254903e-01,\n",
       "        0.0000000e+00, 3.9215689e-03]], dtype=float32)"
      ]
     },
     "execution_count": 109,
     "metadata": {},
     "output_type": "execute_result"
    }
   ],
   "source": [
    "train_data"
   ]
  },
  {
   "cell_type": "code",
   "execution_count": 110,
   "metadata": {},
   "outputs": [
    {
     "data": {
      "text/plain": [
       "array([0.01465753, 0.01923637, 0.01592331, ..., 0.01964955, 0.02025406,\n",
       "       0.01436691], dtype=float32)"
      ]
     },
     "execution_count": 110,
     "metadata": {},
     "output_type": "execute_result"
    }
   ],
   "source": [
    "train_targets"
   ]
  },
  {
   "cell_type": "code",
   "execution_count": 111,
   "metadata": {},
   "outputs": [
    {
     "name": "stdout",
     "output_type": "stream",
     "text": [
      "Epoch 1/20\n"
     ]
    },
    {
     "name": "stdout",
     "output_type": "stream",
     "text": [
      "168/168 [==============================] - 1s 2ms/step - loss: 926840.5000 - mae: 718.5356\n",
      "Epoch 2/20\n",
      "168/168 [==============================] - 0s 1ms/step - loss: 521599.9688 - mae: 587.9747\n",
      "Epoch 3/20\n",
      "168/168 [==============================] - 0s 1ms/step - loss: 275399.2500 - mae: 424.5361\n",
      "Epoch 4/20\n",
      "168/168 [==============================] - 0s 2ms/step - loss: 152243.1562 - mae: 303.8738\n",
      "Epoch 5/20\n",
      "168/168 [==============================] - 0s 2ms/step - loss: 83798.5312 - mae: 241.2176\n",
      "Epoch 6/20\n",
      "168/168 [==============================] - 0s 2ms/step - loss: 50186.5938 - mae: 184.6158\n",
      "Epoch 7/20\n",
      "168/168 [==============================] - 0s 2ms/step - loss: 30881.6621 - mae: 141.2486\n",
      "Epoch 8/20\n",
      "168/168 [==============================] - 0s 2ms/step - loss: 16161.7090 - mae: 104.9159\n",
      "Epoch 9/20\n",
      "168/168 [==============================] - 0s 3ms/step - loss: 8940.9609 - mae: 79.0330\n",
      "Epoch 10/20\n",
      "168/168 [==============================] - 0s 2ms/step - loss: 7314.8037 - mae: 70.7999\n",
      "Epoch 11/20\n",
      "168/168 [==============================] - 0s 2ms/step - loss: 5428.1240 - mae: 62.0964\n",
      "Epoch 12/20\n",
      "168/168 [==============================] - 0s 2ms/step - loss: 3652.6978 - mae: 49.4479\n",
      "Epoch 13/20\n",
      "168/168 [==============================] - 0s 2ms/step - loss: 2906.6367 - mae: 41.7542\n",
      "Epoch 14/20\n",
      "168/168 [==============================] - 0s 2ms/step - loss: 2367.8037 - mae: 41.0858\n",
      "Epoch 15/20\n",
      "168/168 [==============================] - 0s 2ms/step - loss: 1694.6443 - mae: 34.4505\n",
      "Epoch 16/20\n",
      "168/168 [==============================] - 0s 2ms/step - loss: 1237.0016 - mae: 29.3876\n",
      "Epoch 17/20\n",
      "168/168 [==============================] - 0s 2ms/step - loss: 849.1794 - mae: 25.0128\n",
      "Epoch 18/20\n",
      "168/168 [==============================] - 0s 2ms/step - loss: 597.5287 - mae: 20.2988\n",
      "Epoch 19/20\n",
      "168/168 [==============================] - 0s 2ms/step - loss: 464.9107 - mae: 18.3583\n",
      "Epoch 20/20\n",
      "168/168 [==============================] - 0s 2ms/step - loss: 344.3656 - mae: 15.1139\n"
     ]
    },
    {
     "data": {
      "text/plain": [
       "<keras.src.callbacks.History at 0x26bff4b6740>"
      ]
     },
     "execution_count": 111,
     "metadata": {},
     "output_type": "execute_result"
    }
   ],
   "source": [
    "model = keras.Sequential([\n",
    "    keras.layers.Dense(128, activation=\"relu\"),\n",
    "    keras.layers.Dense(128, activation=\"relu\"),\n",
    "    keras.layers.Dense(1)\n",
    "])\n",
    "model.compile(optimizer=\"rmsprop\", loss=\"mse\", metrics=[\"mae\"])\n",
    "model.fit(train_data, train_targets, epochs=20, batch_size=128)"
   ]
  },
  {
   "cell_type": "markdown",
   "metadata": {},
   "source": [
    "K-fold validation"
   ]
  }
 ],
 "metadata": {
  "kernelspec": {
   "display_name": "Ch4",
   "language": "python",
   "name": "python3"
  },
  "language_info": {
   "codemirror_mode": {
    "name": "ipython",
    "version": 3
   },
   "file_extension": ".py",
   "mimetype": "text/x-python",
   "name": "python",
   "nbconvert_exporter": "python",
   "pygments_lexer": "ipython3",
   "version": "3.10.4"
  },
  "orig_nbformat": 4
 },
 "nbformat": 4,
 "nbformat_minor": 2
}
