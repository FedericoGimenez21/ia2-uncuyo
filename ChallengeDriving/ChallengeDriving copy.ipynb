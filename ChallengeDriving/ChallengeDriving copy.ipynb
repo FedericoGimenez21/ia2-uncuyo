{
 "cells": [
  {
   "cell_type": "code",
   "execution_count": 47,
   "metadata": {},
   "outputs": [],
   "source": [
    "import numpy as np\n",
    "import sklearn.model_selection as skm\n",
    "from pandas import read_csv\n",
    "import pandas as pd"
   ]
  },
  {
   "cell_type": "code",
   "execution_count": 48,
   "metadata": {},
   "outputs": [],
   "source": [
    "data_test = read_csv('data/test_motion_data.csv')\n",
    "data_train=read_csv('data/train_motion_data.csv')"
   ]
  },
  {
   "cell_type": "code",
   "execution_count": 49,
   "metadata": {},
   "outputs": [
    {
     "name": "stdout",
     "output_type": "stream",
     "text": [
      "<class 'pandas.core.frame.DataFrame'>\n",
      "RangeIndex: 3084 entries, 0 to 3083\n",
      "Data columns (total 8 columns):\n",
      " #   Column     Non-Null Count  Dtype  \n",
      "---  ------     --------------  -----  \n",
      " 0   AccX       3084 non-null   float64\n",
      " 1   AccY       3084 non-null   float64\n",
      " 2   AccZ       3084 non-null   float64\n",
      " 3   GyroX      3084 non-null   float64\n",
      " 4   GyroY      3084 non-null   float64\n",
      " 5   GyroZ      3084 non-null   float64\n",
      " 6   Class      3084 non-null   object \n",
      " 7   Timestamp  3084 non-null   int64  \n",
      "dtypes: float64(6), int64(1), object(1)\n",
      "memory usage: 192.9+ KB\n"
     ]
    }
   ],
   "source": [
    "data_test.info()"
   ]
  },
  {
   "cell_type": "code",
   "execution_count": 50,
   "metadata": {},
   "outputs": [
    {
     "name": "stdout",
     "output_type": "stream",
     "text": [
      "<class 'pandas.core.frame.DataFrame'>\n",
      "RangeIndex: 3644 entries, 0 to 3643\n",
      "Data columns (total 8 columns):\n",
      " #   Column     Non-Null Count  Dtype  \n",
      "---  ------     --------------  -----  \n",
      " 0   AccX       3644 non-null   float64\n",
      " 1   AccY       3644 non-null   float64\n",
      " 2   AccZ       3644 non-null   float64\n",
      " 3   GyroX      3644 non-null   float64\n",
      " 4   GyroY      3644 non-null   float64\n",
      " 5   GyroZ      3644 non-null   float64\n",
      " 6   Class      3644 non-null   object \n",
      " 7   Timestamp  3644 non-null   int64  \n",
      "dtypes: float64(6), int64(1), object(1)\n",
      "memory usage: 227.9+ KB\n"
     ]
    }
   ],
   "source": [
    "data_train.info()"
   ]
  },
  {
   "cell_type": "code",
   "execution_count": 51,
   "metadata": {},
   "outputs": [
    {
     "data": {
      "text/plain": [
       "False"
      ]
     },
     "execution_count": 51,
     "metadata": {},
     "output_type": "execute_result"
    }
   ],
   "source": [
    "data_train.isnull().values.any()"
   ]
  },
  {
   "cell_type": "code",
   "execution_count": 52,
   "metadata": {},
   "outputs": [
    {
     "data": {
      "text/plain": [
       "False"
      ]
     },
     "execution_count": 52,
     "metadata": {},
     "output_type": "execute_result"
    }
   ],
   "source": [
    "data_test.isnull().values.any()"
   ]
  },
  {
   "cell_type": "code",
   "execution_count": 53,
   "metadata": {},
   "outputs": [
    {
     "data": {
      "text/plain": [
       "(3644, 8)"
      ]
     },
     "execution_count": 53,
     "metadata": {},
     "output_type": "execute_result"
    }
   ],
   "source": [
    "data_train.shape"
   ]
  },
  {
   "cell_type": "code",
   "execution_count": 54,
   "metadata": {},
   "outputs": [
    {
     "data": {
      "text/plain": [
       "AccX         float64\n",
       "AccY         float64\n",
       "AccZ         float64\n",
       "GyroX        float64\n",
       "GyroY        float64\n",
       "GyroZ        float64\n",
       "Class         object\n",
       "Timestamp      int64\n",
       "dtype: object"
      ]
     },
     "execution_count": 54,
     "metadata": {},
     "output_type": "execute_result"
    }
   ],
   "source": [
    "data_train.dtypes"
   ]
  },
  {
   "cell_type": "code",
   "execution_count": 55,
   "metadata": {},
   "outputs": [
    {
     "data": {
      "text/html": [
       "<div>\n",
       "<style scoped>\n",
       "    .dataframe tbody tr th:only-of-type {\n",
       "        vertical-align: middle;\n",
       "    }\n",
       "\n",
       "    .dataframe tbody tr th {\n",
       "        vertical-align: top;\n",
       "    }\n",
       "\n",
       "    .dataframe thead th {\n",
       "        text-align: right;\n",
       "    }\n",
       "</style>\n",
       "<table border=\"1\" class=\"dataframe\">\n",
       "  <thead>\n",
       "    <tr style=\"text-align: right;\">\n",
       "      <th></th>\n",
       "      <th>AccX</th>\n",
       "      <th>AccY</th>\n",
       "      <th>AccZ</th>\n",
       "      <th>GyroX</th>\n",
       "      <th>GyroY</th>\n",
       "      <th>GyroZ</th>\n",
       "      <th>Class</th>\n",
       "      <th>Timestamp</th>\n",
       "    </tr>\n",
       "  </thead>\n",
       "  <tbody>\n",
       "    <tr>\n",
       "      <th>0</th>\n",
       "      <td>0.000000</td>\n",
       "      <td>0.000000</td>\n",
       "      <td>0.000000</td>\n",
       "      <td>0.059407</td>\n",
       "      <td>-0.174707</td>\n",
       "      <td>0.101938</td>\n",
       "      <td>NORMAL</td>\n",
       "      <td>3581629</td>\n",
       "    </tr>\n",
       "    <tr>\n",
       "      <th>1</th>\n",
       "      <td>-1.624864</td>\n",
       "      <td>-1.082492</td>\n",
       "      <td>-0.204183</td>\n",
       "      <td>-0.028558</td>\n",
       "      <td>0.051313</td>\n",
       "      <td>0.135536</td>\n",
       "      <td>NORMAL</td>\n",
       "      <td>3581630</td>\n",
       "    </tr>\n",
       "    <tr>\n",
       "      <th>2</th>\n",
       "      <td>-0.594660</td>\n",
       "      <td>-0.122410</td>\n",
       "      <td>0.220502</td>\n",
       "      <td>-0.019395</td>\n",
       "      <td>-0.029322</td>\n",
       "      <td>0.087888</td>\n",
       "      <td>NORMAL</td>\n",
       "      <td>3581630</td>\n",
       "    </tr>\n",
       "    <tr>\n",
       "      <th>3</th>\n",
       "      <td>0.738478</td>\n",
       "      <td>-0.228456</td>\n",
       "      <td>0.667732</td>\n",
       "      <td>0.069791</td>\n",
       "      <td>-0.029932</td>\n",
       "      <td>0.054902</td>\n",
       "      <td>NORMAL</td>\n",
       "      <td>3581631</td>\n",
       "    </tr>\n",
       "    <tr>\n",
       "      <th>4</th>\n",
       "      <td>0.101741</td>\n",
       "      <td>0.777568</td>\n",
       "      <td>-0.066730</td>\n",
       "      <td>0.030696</td>\n",
       "      <td>-0.003665</td>\n",
       "      <td>0.054902</td>\n",
       "      <td>NORMAL</td>\n",
       "      <td>3581631</td>\n",
       "    </tr>\n",
       "    <tr>\n",
       "      <th>...</th>\n",
       "      <td>...</td>\n",
       "      <td>...</td>\n",
       "      <td>...</td>\n",
       "      <td>...</td>\n",
       "      <td>...</td>\n",
       "      <td>...</td>\n",
       "      <td>...</td>\n",
       "      <td>...</td>\n",
       "    </tr>\n",
       "    <tr>\n",
       "      <th>3639</th>\n",
       "      <td>0.915688</td>\n",
       "      <td>-2.017489</td>\n",
       "      <td>1.687505</td>\n",
       "      <td>0.450360</td>\n",
       "      <td>0.384845</td>\n",
       "      <td>-1.236468</td>\n",
       "      <td>SLOW</td>\n",
       "      <td>3583789</td>\n",
       "    </tr>\n",
       "    <tr>\n",
       "      <th>3640</th>\n",
       "      <td>-1.934203</td>\n",
       "      <td>0.914925</td>\n",
       "      <td>-0.096013</td>\n",
       "      <td>0.321468</td>\n",
       "      <td>0.649350</td>\n",
       "      <td>-0.477162</td>\n",
       "      <td>SLOW</td>\n",
       "      <td>3583790</td>\n",
       "    </tr>\n",
       "    <tr>\n",
       "      <th>3641</th>\n",
       "      <td>-0.222845</td>\n",
       "      <td>0.747304</td>\n",
       "      <td>-0.887430</td>\n",
       "      <td>0.361174</td>\n",
       "      <td>-0.406836</td>\n",
       "      <td>0.054291</td>\n",
       "      <td>SLOW</td>\n",
       "      <td>3583790</td>\n",
       "    </tr>\n",
       "    <tr>\n",
       "      <th>3642</th>\n",
       "      <td>-0.349423</td>\n",
       "      <td>0.067261</td>\n",
       "      <td>0.394368</td>\n",
       "      <td>-0.132405</td>\n",
       "      <td>0.020159</td>\n",
       "      <td>-0.004963</td>\n",
       "      <td>SLOW</td>\n",
       "      <td>3583791</td>\n",
       "    </tr>\n",
       "    <tr>\n",
       "      <th>3643</th>\n",
       "      <td>-0.402428</td>\n",
       "      <td>0.406218</td>\n",
       "      <td>-0.423009</td>\n",
       "      <td>-0.053603</td>\n",
       "      <td>-0.006720</td>\n",
       "      <td>0.001145</td>\n",
       "      <td>SLOW</td>\n",
       "      <td>3583791</td>\n",
       "    </tr>\n",
       "  </tbody>\n",
       "</table>\n",
       "<p>3644 rows × 8 columns</p>\n",
       "</div>"
      ],
      "text/plain": [
       "          AccX      AccY      AccZ     GyroX     GyroY     GyroZ   Class  \\\n",
       "0     0.000000  0.000000  0.000000  0.059407 -0.174707  0.101938  NORMAL   \n",
       "1    -1.624864 -1.082492 -0.204183 -0.028558  0.051313  0.135536  NORMAL   \n",
       "2    -0.594660 -0.122410  0.220502 -0.019395 -0.029322  0.087888  NORMAL   \n",
       "3     0.738478 -0.228456  0.667732  0.069791 -0.029932  0.054902  NORMAL   \n",
       "4     0.101741  0.777568 -0.066730  0.030696 -0.003665  0.054902  NORMAL   \n",
       "...        ...       ...       ...       ...       ...       ...     ...   \n",
       "3639  0.915688 -2.017489  1.687505  0.450360  0.384845 -1.236468    SLOW   \n",
       "3640 -1.934203  0.914925 -0.096013  0.321468  0.649350 -0.477162    SLOW   \n",
       "3641 -0.222845  0.747304 -0.887430  0.361174 -0.406836  0.054291    SLOW   \n",
       "3642 -0.349423  0.067261  0.394368 -0.132405  0.020159 -0.004963    SLOW   \n",
       "3643 -0.402428  0.406218 -0.423009 -0.053603 -0.006720  0.001145    SLOW   \n",
       "\n",
       "      Timestamp  \n",
       "0       3581629  \n",
       "1       3581630  \n",
       "2       3581630  \n",
       "3       3581631  \n",
       "4       3581631  \n",
       "...         ...  \n",
       "3639    3583789  \n",
       "3640    3583790  \n",
       "3641    3583790  \n",
       "3642    3583791  \n",
       "3643    3583791  \n",
       "\n",
       "[3644 rows x 8 columns]"
      ]
     },
     "execution_count": 55,
     "metadata": {},
     "output_type": "execute_result"
    }
   ],
   "source": [
    "data_train\n"
   ]
  },
  {
   "cell_type": "code",
   "execution_count": 56,
   "metadata": {},
   "outputs": [
    {
     "data": {
      "text/html": [
       "<div>\n",
       "<style scoped>\n",
       "    .dataframe tbody tr th:only-of-type {\n",
       "        vertical-align: middle;\n",
       "    }\n",
       "\n",
       "    .dataframe tbody tr th {\n",
       "        vertical-align: top;\n",
       "    }\n",
       "\n",
       "    .dataframe thead th {\n",
       "        text-align: right;\n",
       "    }\n",
       "</style>\n",
       "<table border=\"1\" class=\"dataframe\">\n",
       "  <thead>\n",
       "    <tr style=\"text-align: right;\">\n",
       "      <th></th>\n",
       "      <th>AccX</th>\n",
       "      <th>AccY</th>\n",
       "      <th>AccZ</th>\n",
       "      <th>GyroX</th>\n",
       "      <th>GyroY</th>\n",
       "      <th>GyroZ</th>\n",
       "      <th>Class</th>\n",
       "      <th>Timestamp</th>\n",
       "    </tr>\n",
       "  </thead>\n",
       "  <tbody>\n",
       "    <tr>\n",
       "      <th>0</th>\n",
       "      <td>0.758194</td>\n",
       "      <td>-0.217791</td>\n",
       "      <td>0.457263</td>\n",
       "      <td>0.000000</td>\n",
       "      <td>0.000000</td>\n",
       "      <td>0.000000</td>\n",
       "      <td>AGGRESSIVE</td>\n",
       "      <td>818922</td>\n",
       "    </tr>\n",
       "    <tr>\n",
       "      <th>1</th>\n",
       "      <td>0.667560</td>\n",
       "      <td>-0.038610</td>\n",
       "      <td>0.231416</td>\n",
       "      <td>-0.054367</td>\n",
       "      <td>-0.007712</td>\n",
       "      <td>0.225257</td>\n",
       "      <td>AGGRESSIVE</td>\n",
       "      <td>818923</td>\n",
       "    </tr>\n",
       "    <tr>\n",
       "      <th>2</th>\n",
       "      <td>2.724449</td>\n",
       "      <td>-7.584121</td>\n",
       "      <td>2.390926</td>\n",
       "      <td>0.023824</td>\n",
       "      <td>0.013668</td>\n",
       "      <td>-0.038026</td>\n",
       "      <td>AGGRESSIVE</td>\n",
       "      <td>818923</td>\n",
       "    </tr>\n",
       "    <tr>\n",
       "      <th>3</th>\n",
       "      <td>2.330950</td>\n",
       "      <td>-7.621754</td>\n",
       "      <td>2.529024</td>\n",
       "      <td>0.056810</td>\n",
       "      <td>-0.180587</td>\n",
       "      <td>-0.052076</td>\n",
       "      <td>AGGRESSIVE</td>\n",
       "      <td>818924</td>\n",
       "    </tr>\n",
       "    <tr>\n",
       "      <th>4</th>\n",
       "      <td>2.847215</td>\n",
       "      <td>-6.755621</td>\n",
       "      <td>2.224640</td>\n",
       "      <td>-0.031765</td>\n",
       "      <td>-0.035201</td>\n",
       "      <td>0.035277</td>\n",
       "      <td>AGGRESSIVE</td>\n",
       "      <td>818924</td>\n",
       "    </tr>\n",
       "    <tr>\n",
       "      <th>...</th>\n",
       "      <td>...</td>\n",
       "      <td>...</td>\n",
       "      <td>...</td>\n",
       "      <td>...</td>\n",
       "      <td>...</td>\n",
       "      <td>...</td>\n",
       "      <td>...</td>\n",
       "      <td>...</td>\n",
       "    </tr>\n",
       "    <tr>\n",
       "      <th>3079</th>\n",
       "      <td>-0.713858</td>\n",
       "      <td>-0.652975</td>\n",
       "      <td>-0.164015</td>\n",
       "      <td>-0.147829</td>\n",
       "      <td>-1.309466</td>\n",
       "      <td>0.517250</td>\n",
       "      <td>SLOW</td>\n",
       "      <td>820706</td>\n",
       "    </tr>\n",
       "    <tr>\n",
       "      <th>3080</th>\n",
       "      <td>1.514261</td>\n",
       "      <td>0.330070</td>\n",
       "      <td>1.020714</td>\n",
       "      <td>1.321302</td>\n",
       "      <td>1.707598</td>\n",
       "      <td>-0.674548</td>\n",
       "      <td>SLOW</td>\n",
       "      <td>820707</td>\n",
       "    </tr>\n",
       "    <tr>\n",
       "      <th>3081</th>\n",
       "      <td>1.280216</td>\n",
       "      <td>-1.735172</td>\n",
       "      <td>-2.332695</td>\n",
       "      <td>0.583376</td>\n",
       "      <td>0.690507</td>\n",
       "      <td>-0.468075</td>\n",
       "      <td>SLOW</td>\n",
       "      <td>820707</td>\n",
       "    </tr>\n",
       "    <tr>\n",
       "      <th>3082</th>\n",
       "      <td>0.912313</td>\n",
       "      <td>0.583314</td>\n",
       "      <td>-0.965622</td>\n",
       "      <td>0.235794</td>\n",
       "      <td>0.512745</td>\n",
       "      <td>0.406073</td>\n",
       "      <td>SLOW</td>\n",
       "      <td>820708</td>\n",
       "    </tr>\n",
       "    <tr>\n",
       "      <th>3083</th>\n",
       "      <td>1.462172</td>\n",
       "      <td>0.190287</td>\n",
       "      <td>0.019377</td>\n",
       "      <td>-0.254731</td>\n",
       "      <td>-0.279547</td>\n",
       "      <td>0.076205</td>\n",
       "      <td>SLOW</td>\n",
       "      <td>820709</td>\n",
       "    </tr>\n",
       "  </tbody>\n",
       "</table>\n",
       "<p>3084 rows × 8 columns</p>\n",
       "</div>"
      ],
      "text/plain": [
       "          AccX      AccY      AccZ     GyroX     GyroY     GyroZ       Class  \\\n",
       "0     0.758194 -0.217791  0.457263  0.000000  0.000000  0.000000  AGGRESSIVE   \n",
       "1     0.667560 -0.038610  0.231416 -0.054367 -0.007712  0.225257  AGGRESSIVE   \n",
       "2     2.724449 -7.584121  2.390926  0.023824  0.013668 -0.038026  AGGRESSIVE   \n",
       "3     2.330950 -7.621754  2.529024  0.056810 -0.180587 -0.052076  AGGRESSIVE   \n",
       "4     2.847215 -6.755621  2.224640 -0.031765 -0.035201  0.035277  AGGRESSIVE   \n",
       "...        ...       ...       ...       ...       ...       ...         ...   \n",
       "3079 -0.713858 -0.652975 -0.164015 -0.147829 -1.309466  0.517250        SLOW   \n",
       "3080  1.514261  0.330070  1.020714  1.321302  1.707598 -0.674548        SLOW   \n",
       "3081  1.280216 -1.735172 -2.332695  0.583376  0.690507 -0.468075        SLOW   \n",
       "3082  0.912313  0.583314 -0.965622  0.235794  0.512745  0.406073        SLOW   \n",
       "3083  1.462172  0.190287  0.019377 -0.254731 -0.279547  0.076205        SLOW   \n",
       "\n",
       "      Timestamp  \n",
       "0        818922  \n",
       "1        818923  \n",
       "2        818923  \n",
       "3        818924  \n",
       "4        818924  \n",
       "...         ...  \n",
       "3079     820706  \n",
       "3080     820707  \n",
       "3081     820707  \n",
       "3082     820708  \n",
       "3083     820709  \n",
       "\n",
       "[3084 rows x 8 columns]"
      ]
     },
     "execution_count": 56,
     "metadata": {},
     "output_type": "execute_result"
    }
   ],
   "source": [
    "data_test"
   ]
  },
  {
   "cell_type": "code",
   "execution_count": 57,
   "metadata": {},
   "outputs": [],
   "source": [
    "from sklearn.model_selection import train_test_split\n",
    "\n",
    "# mitadTrain=int(data_train.shape[0]/2)\n",
    "# train_data, train_targets =  data_train[mitadTrain:],data_train[:mitadTrain] \n",
    "\n",
    "train_data=data_train.drop(['Class','Timestamp'],axis=1)\n",
    "train_targets=data_train.drop(['AccX',\t'AccY'\t,'AccZ',\t'GyroX',\t'GyroY','GyroZ','Timestamp'],axis=1)\n",
    "\n",
    "\n",
    "\n",
    "X_test=data_test.drop(['Class','Timestamp'],axis=1)\n",
    "y_test=data_test.drop(['AccX',\t'AccY'\t,'AccZ',\t'GyroX',\t'GyroY','GyroZ','Timestamp'],axis=1)\n",
    "\n",
    "X_train,X_validation,y_train,y_validation =skm.train_test_split(train_data,train_targets,\n",
    "                                                    test_size = 0.30,\n",
    "                                                    random_state = 100)\n",
    "\n",
    "# X_train, X_test, y_train, y_test = train_test_split(train_data, train_targets, test_size = 0.3, shuffle=True)"
   ]
  },
  {
   "cell_type": "code",
   "execution_count": 58,
   "metadata": {},
   "outputs": [
    {
     "data": {
      "text/html": [
       "<div>\n",
       "<style scoped>\n",
       "    .dataframe tbody tr th:only-of-type {\n",
       "        vertical-align: middle;\n",
       "    }\n",
       "\n",
       "    .dataframe tbody tr th {\n",
       "        vertical-align: top;\n",
       "    }\n",
       "\n",
       "    .dataframe thead th {\n",
       "        text-align: right;\n",
       "    }\n",
       "</style>\n",
       "<table border=\"1\" class=\"dataframe\">\n",
       "  <thead>\n",
       "    <tr style=\"text-align: right;\">\n",
       "      <th></th>\n",
       "      <th>AccX</th>\n",
       "      <th>AccY</th>\n",
       "      <th>AccZ</th>\n",
       "      <th>GyroX</th>\n",
       "      <th>GyroY</th>\n",
       "      <th>GyroZ</th>\n",
       "    </tr>\n",
       "  </thead>\n",
       "  <tbody>\n",
       "    <tr>\n",
       "      <th>3382</th>\n",
       "      <td>0.393024</td>\n",
       "      <td>0.057071</td>\n",
       "      <td>-0.307596</td>\n",
       "      <td>-0.002902</td>\n",
       "      <td>-0.031154</td>\n",
       "      <td>0.008476</td>\n",
       "    </tr>\n",
       "    <tr>\n",
       "      <th>3031</th>\n",
       "      <td>0.482502</td>\n",
       "      <td>0.573888</td>\n",
       "      <td>-0.418815</td>\n",
       "      <td>-0.036499</td>\n",
       "      <td>0.077580</td>\n",
       "      <td>0.071395</td>\n",
       "    </tr>\n",
       "    <tr>\n",
       "      <th>104</th>\n",
       "      <td>0.474585</td>\n",
       "      <td>0.682918</td>\n",
       "      <td>-0.771245</td>\n",
       "      <td>0.010537</td>\n",
       "      <td>-0.083689</td>\n",
       "      <td>0.062232</td>\n",
       "    </tr>\n",
       "    <tr>\n",
       "      <th>1178</th>\n",
       "      <td>0.067602</td>\n",
       "      <td>-2.531618</td>\n",
       "      <td>-0.781180</td>\n",
       "      <td>0.000153</td>\n",
       "      <td>-0.037874</td>\n",
       "      <td>-0.102702</td>\n",
       "    </tr>\n",
       "    <tr>\n",
       "      <th>250</th>\n",
       "      <td>-2.099313</td>\n",
       "      <td>-0.996714</td>\n",
       "      <td>-0.117419</td>\n",
       "      <td>0.020922</td>\n",
       "      <td>0.087354</td>\n",
       "      <td>0.205785</td>\n",
       "    </tr>\n",
       "    <tr>\n",
       "      <th>...</th>\n",
       "      <td>...</td>\n",
       "      <td>...</td>\n",
       "      <td>...</td>\n",
       "      <td>...</td>\n",
       "      <td>...</td>\n",
       "      <td>...</td>\n",
       "    </tr>\n",
       "    <tr>\n",
       "      <th>1930</th>\n",
       "      <td>0.482076</td>\n",
       "      <td>0.153575</td>\n",
       "      <td>1.743102</td>\n",
       "      <td>0.042913</td>\n",
       "      <td>0.220522</td>\n",
       "      <td>0.005421</td>\n",
       "    </tr>\n",
       "    <tr>\n",
       "      <th>79</th>\n",
       "      <td>2.095545</td>\n",
       "      <td>-0.038352</td>\n",
       "      <td>-0.121570</td>\n",
       "      <td>-0.019395</td>\n",
       "      <td>0.064141</td>\n",
       "      <td>-0.125915</td>\n",
       "    </tr>\n",
       "    <tr>\n",
       "      <th>1859</th>\n",
       "      <td>-2.537342</td>\n",
       "      <td>-0.448931</td>\n",
       "      <td>0.798441</td>\n",
       "      <td>-0.026114</td>\n",
       "      <td>0.081245</td>\n",
       "      <td>0.111101</td>\n",
       "    </tr>\n",
       "    <tr>\n",
       "      <th>2840</th>\n",
       "      <td>-0.304747</td>\n",
       "      <td>0.200952</td>\n",
       "      <td>0.282927</td>\n",
       "      <td>0.004429</td>\n",
       "      <td>-0.015882</td>\n",
       "      <td>0.014584</td>\n",
       "    </tr>\n",
       "    <tr>\n",
       "      <th>1544</th>\n",
       "      <td>-0.213661</td>\n",
       "      <td>-1.028496</td>\n",
       "      <td>0.047073</td>\n",
       "      <td>0.047189</td>\n",
       "      <td>0.086743</td>\n",
       "      <td>0.012141</td>\n",
       "    </tr>\n",
       "  </tbody>\n",
       "</table>\n",
       "<p>2550 rows × 6 columns</p>\n",
       "</div>"
      ],
      "text/plain": [
       "          AccX      AccY      AccZ     GyroX     GyroY     GyroZ\n",
       "3382  0.393024  0.057071 -0.307596 -0.002902 -0.031154  0.008476\n",
       "3031  0.482502  0.573888 -0.418815 -0.036499  0.077580  0.071395\n",
       "104   0.474585  0.682918 -0.771245  0.010537 -0.083689  0.062232\n",
       "1178  0.067602 -2.531618 -0.781180  0.000153 -0.037874 -0.102702\n",
       "250  -2.099313 -0.996714 -0.117419  0.020922  0.087354  0.205785\n",
       "...        ...       ...       ...       ...       ...       ...\n",
       "1930  0.482076  0.153575  1.743102  0.042913  0.220522  0.005421\n",
       "79    2.095545 -0.038352 -0.121570 -0.019395  0.064141 -0.125915\n",
       "1859 -2.537342 -0.448931  0.798441 -0.026114  0.081245  0.111101\n",
       "2840 -0.304747  0.200952  0.282927  0.004429 -0.015882  0.014584\n",
       "1544 -0.213661 -1.028496  0.047073  0.047189  0.086743  0.012141\n",
       "\n",
       "[2550 rows x 6 columns]"
      ]
     },
     "execution_count": 58,
     "metadata": {},
     "output_type": "execute_result"
    }
   ],
   "source": [
    "X_train"
   ]
  },
  {
   "cell_type": "code",
   "execution_count": 59,
   "metadata": {},
   "outputs": [
    {
     "data": {
      "text/html": [
       "<div>\n",
       "<style scoped>\n",
       "    .dataframe tbody tr th:only-of-type {\n",
       "        vertical-align: middle;\n",
       "    }\n",
       "\n",
       "    .dataframe tbody tr th {\n",
       "        vertical-align: top;\n",
       "    }\n",
       "\n",
       "    .dataframe thead th {\n",
       "        text-align: right;\n",
       "    }\n",
       "</style>\n",
       "<table border=\"1\" class=\"dataframe\">\n",
       "  <thead>\n",
       "    <tr style=\"text-align: right;\">\n",
       "      <th></th>\n",
       "      <th>Class</th>\n",
       "    </tr>\n",
       "  </thead>\n",
       "  <tbody>\n",
       "    <tr>\n",
       "      <th>3382</th>\n",
       "      <td>SLOW</td>\n",
       "    </tr>\n",
       "    <tr>\n",
       "      <th>3031</th>\n",
       "      <td>SLOW</td>\n",
       "    </tr>\n",
       "    <tr>\n",
       "      <th>104</th>\n",
       "      <td>NORMAL</td>\n",
       "    </tr>\n",
       "    <tr>\n",
       "      <th>1178</th>\n",
       "      <td>NORMAL</td>\n",
       "    </tr>\n",
       "    <tr>\n",
       "      <th>250</th>\n",
       "      <td>NORMAL</td>\n",
       "    </tr>\n",
       "    <tr>\n",
       "      <th>...</th>\n",
       "      <td>...</td>\n",
       "    </tr>\n",
       "    <tr>\n",
       "      <th>1930</th>\n",
       "      <td>AGGRESSIVE</td>\n",
       "    </tr>\n",
       "    <tr>\n",
       "      <th>79</th>\n",
       "      <td>NORMAL</td>\n",
       "    </tr>\n",
       "    <tr>\n",
       "      <th>1859</th>\n",
       "      <td>AGGRESSIVE</td>\n",
       "    </tr>\n",
       "    <tr>\n",
       "      <th>2840</th>\n",
       "      <td>SLOW</td>\n",
       "    </tr>\n",
       "    <tr>\n",
       "      <th>1544</th>\n",
       "      <td>AGGRESSIVE</td>\n",
       "    </tr>\n",
       "  </tbody>\n",
       "</table>\n",
       "<p>2550 rows × 1 columns</p>\n",
       "</div>"
      ],
      "text/plain": [
       "           Class\n",
       "3382        SLOW\n",
       "3031        SLOW\n",
       "104       NORMAL\n",
       "1178      NORMAL\n",
       "250       NORMAL\n",
       "...          ...\n",
       "1930  AGGRESSIVE\n",
       "79        NORMAL\n",
       "1859  AGGRESSIVE\n",
       "2840        SLOW\n",
       "1544  AGGRESSIVE\n",
       "\n",
       "[2550 rows x 1 columns]"
      ]
     },
     "execution_count": 59,
     "metadata": {},
     "output_type": "execute_result"
    }
   ],
   "source": [
    "y_train"
   ]
  },
  {
   "cell_type": "code",
   "execution_count": 60,
   "metadata": {},
   "outputs": [
    {
     "data": {
      "text/html": [
       "<div>\n",
       "<style scoped>\n",
       "    .dataframe tbody tr th:only-of-type {\n",
       "        vertical-align: middle;\n",
       "    }\n",
       "\n",
       "    .dataframe tbody tr th {\n",
       "        vertical-align: top;\n",
       "    }\n",
       "\n",
       "    .dataframe thead th {\n",
       "        text-align: right;\n",
       "    }\n",
       "</style>\n",
       "<table border=\"1\" class=\"dataframe\">\n",
       "  <thead>\n",
       "    <tr style=\"text-align: right;\">\n",
       "      <th></th>\n",
       "      <th>Class</th>\n",
       "    </tr>\n",
       "  </thead>\n",
       "  <tbody>\n",
       "    <tr>\n",
       "      <th>2309</th>\n",
       "      <td>AGGRESSIVE</td>\n",
       "    </tr>\n",
       "    <tr>\n",
       "      <th>999</th>\n",
       "      <td>NORMAL</td>\n",
       "    </tr>\n",
       "    <tr>\n",
       "      <th>1370</th>\n",
       "      <td>AGGRESSIVE</td>\n",
       "    </tr>\n",
       "    <tr>\n",
       "      <th>1157</th>\n",
       "      <td>NORMAL</td>\n",
       "    </tr>\n",
       "    <tr>\n",
       "      <th>2202</th>\n",
       "      <td>AGGRESSIVE</td>\n",
       "    </tr>\n",
       "    <tr>\n",
       "      <th>...</th>\n",
       "      <td>...</td>\n",
       "    </tr>\n",
       "    <tr>\n",
       "      <th>2484</th>\n",
       "      <td>SLOW</td>\n",
       "    </tr>\n",
       "    <tr>\n",
       "      <th>1042</th>\n",
       "      <td>NORMAL</td>\n",
       "    </tr>\n",
       "    <tr>\n",
       "      <th>1516</th>\n",
       "      <td>AGGRESSIVE</td>\n",
       "    </tr>\n",
       "    <tr>\n",
       "      <th>3151</th>\n",
       "      <td>SLOW</td>\n",
       "    </tr>\n",
       "    <tr>\n",
       "      <th>2632</th>\n",
       "      <td>SLOW</td>\n",
       "    </tr>\n",
       "  </tbody>\n",
       "</table>\n",
       "<p>1094 rows × 1 columns</p>\n",
       "</div>"
      ],
      "text/plain": [
       "           Class\n",
       "2309  AGGRESSIVE\n",
       "999       NORMAL\n",
       "1370  AGGRESSIVE\n",
       "1157      NORMAL\n",
       "2202  AGGRESSIVE\n",
       "...          ...\n",
       "2484        SLOW\n",
       "1042      NORMAL\n",
       "1516  AGGRESSIVE\n",
       "3151        SLOW\n",
       "2632        SLOW\n",
       "\n",
       "[1094 rows x 1 columns]"
      ]
     },
     "execution_count": 60,
     "metadata": {},
     "output_type": "execute_result"
    }
   ],
   "source": [
    "y_validation"
   ]
  },
  {
   "cell_type": "code",
   "execution_count": 61,
   "metadata": {},
   "outputs": [
    {
     "data": {
      "text/html": [
       "<div>\n",
       "<style scoped>\n",
       "    .dataframe tbody tr th:only-of-type {\n",
       "        vertical-align: middle;\n",
       "    }\n",
       "\n",
       "    .dataframe tbody tr th {\n",
       "        vertical-align: top;\n",
       "    }\n",
       "\n",
       "    .dataframe thead th {\n",
       "        text-align: right;\n",
       "    }\n",
       "</style>\n",
       "<table border=\"1\" class=\"dataframe\">\n",
       "  <thead>\n",
       "    <tr style=\"text-align: right;\">\n",
       "      <th></th>\n",
       "      <th>Class</th>\n",
       "    </tr>\n",
       "  </thead>\n",
       "  <tbody>\n",
       "    <tr>\n",
       "      <th>0</th>\n",
       "      <td>AGGRESSIVE</td>\n",
       "    </tr>\n",
       "    <tr>\n",
       "      <th>1</th>\n",
       "      <td>AGGRESSIVE</td>\n",
       "    </tr>\n",
       "    <tr>\n",
       "      <th>2</th>\n",
       "      <td>AGGRESSIVE</td>\n",
       "    </tr>\n",
       "    <tr>\n",
       "      <th>3</th>\n",
       "      <td>AGGRESSIVE</td>\n",
       "    </tr>\n",
       "    <tr>\n",
       "      <th>4</th>\n",
       "      <td>AGGRESSIVE</td>\n",
       "    </tr>\n",
       "    <tr>\n",
       "      <th>...</th>\n",
       "      <td>...</td>\n",
       "    </tr>\n",
       "    <tr>\n",
       "      <th>3079</th>\n",
       "      <td>SLOW</td>\n",
       "    </tr>\n",
       "    <tr>\n",
       "      <th>3080</th>\n",
       "      <td>SLOW</td>\n",
       "    </tr>\n",
       "    <tr>\n",
       "      <th>3081</th>\n",
       "      <td>SLOW</td>\n",
       "    </tr>\n",
       "    <tr>\n",
       "      <th>3082</th>\n",
       "      <td>SLOW</td>\n",
       "    </tr>\n",
       "    <tr>\n",
       "      <th>3083</th>\n",
       "      <td>SLOW</td>\n",
       "    </tr>\n",
       "  </tbody>\n",
       "</table>\n",
       "<p>3084 rows × 1 columns</p>\n",
       "</div>"
      ],
      "text/plain": [
       "           Class\n",
       "0     AGGRESSIVE\n",
       "1     AGGRESSIVE\n",
       "2     AGGRESSIVE\n",
       "3     AGGRESSIVE\n",
       "4     AGGRESSIVE\n",
       "...          ...\n",
       "3079        SLOW\n",
       "3080        SLOW\n",
       "3081        SLOW\n",
       "3082        SLOW\n",
       "3083        SLOW\n",
       "\n",
       "[3084 rows x 1 columns]"
      ]
     },
     "execution_count": 61,
     "metadata": {},
     "output_type": "execute_result"
    }
   ],
   "source": [
    "y_test"
   ]
  },
  {
   "cell_type": "code",
   "execution_count": 62,
   "metadata": {},
   "outputs": [],
   "source": [
    "# def to_one_hot(labels, dimension=3):\n",
    "#  results = np.zeros((len(labels), dimension))\n",
    "#  for i, label in enumerate(labels):\n",
    "#     results[i, label] = 1.\n",
    "#  return results"
   ]
  },
  {
   "cell_type": "code",
   "execution_count": 63,
   "metadata": {},
   "outputs": [
    {
     "data": {
      "text/plain": [
       "pandas.core.frame.DataFrame"
      ]
     },
     "execution_count": 63,
     "metadata": {},
     "output_type": "execute_result"
    }
   ],
   "source": [
    "type(y_train)"
   ]
  },
  {
   "cell_type": "code",
   "execution_count": 64,
   "metadata": {},
   "outputs": [
    {
     "data": {
      "text/plain": [
       "Class    object\n",
       "dtype: object"
      ]
     },
     "execution_count": 64,
     "metadata": {},
     "output_type": "execute_result"
    }
   ],
   "source": [
    "y_train.dtypes"
   ]
  },
  {
   "cell_type": "code",
   "execution_count": 65,
   "metadata": {},
   "outputs": [
    {
     "data": {
      "text/plain": [
       "<Axes: xlabel='Class'>"
      ]
     },
     "execution_count": 65,
     "metadata": {},
     "output_type": "execute_result"
    },
    {
     "data": {
      "image/png": "[encoded data removed]",
      "text/plain": [
       "<Figure size 640x480 with 1 Axes>"
      ]
     },
     "metadata": {},
     "output_type": "display_data"
    }
   ],
   "source": [
    "y_train['Class'].value_counts().plot(kind='bar')"
   ]
  },
  {
   "cell_type": "code",
   "execution_count": 66,
   "metadata": {},
   "outputs": [
    {
     "name": "stderr",
     "output_type": "stream",
     "text": [
      "d:\\Facultad\\Inteligencia artificial 2\\Ch4\\lib\\site-packages\\sklearn\\preprocessing\\_label.py:114: DataConversionWarning: A column-vector y was passed when a 1d array was expected. Please change the shape of y to (n_samples, ), for example using ravel().\n",
      "  y = column_or_1d(y, warn=True)\n",
      "d:\\Facultad\\Inteligencia artificial 2\\Ch4\\lib\\site-packages\\sklearn\\preprocessing\\_label.py:132: DataConversionWarning: A column-vector y was passed when a 1d array was expected. Please change the shape of y to (n_samples, ), for example using ravel().\n",
      "  y = column_or_1d(y, dtype=self.classes_.dtype, warn=True)\n"
     ]
    }
   ],
   "source": [
    "# As ML/DL algorithms are working with numbers\n",
    "# the labels should be mapped to numbers\n",
    "from sklearn.preprocessing import LabelEncoder\n",
    "\n",
    "labelEncoder = LabelEncoder()\n",
    "y_train = labelEncoder.fit_transform(y_train)\n",
    "y_test = labelEncoder.transform(y_test)\n"
   ]
  },
  {
   "cell_type": "code",
   "execution_count": 67,
   "metadata": {},
   "outputs": [
    {
     "name": "stderr",
     "output_type": "stream",
     "text": [
      "d:\\Facultad\\Inteligencia artificial 2\\Ch4\\lib\\site-packages\\sklearn\\preprocessing\\_label.py:114: DataConversionWarning: A column-vector y was passed when a 1d array was expected. Please change the shape of y to (n_samples, ), for example using ravel().\n",
      "  y = column_or_1d(y, warn=True)\n"
     ]
    }
   ],
   "source": [
    "y_validation =labelEncoder.fit_transform(y_validation)"
   ]
  },
  {
   "cell_type": "code",
   "execution_count": 68,
   "metadata": {},
   "outputs": [],
   "source": [
    "# Because I'm using CategoricalCrossentropy loss function\n",
    "# I have to convert my labels to one-hot encoded vectors\n",
    "from tensorflow.keras.utils import to_categorical\n",
    "\n",
    "y_train = to_categorical(y_train, num_classes=3)\n",
    "y_validation = to_categorical(y_validation, num_classes=3)\n",
    "y_test = to_categorical(y_test, num_classes=3)"
   ]
  },
  {
   "cell_type": "code",
   "execution_count": 69,
   "metadata": {},
   "outputs": [],
   "source": [
    "# from sklearn.preprocessing import LabelEncoder\n",
    "# from sklearn.preprocessing import OneHotEncoder\n",
    "\n",
    "# ### Categorical data to be converted to numeric data\n",
    "\n",
    "\n",
    "# ### integer mapping using LabelEncoder\n",
    "# label_encoder = LabelEncoder()\n",
    "# integer_encoded = label_encoder.fit_transform(y_train)\n",
    "# print(integer_encoded)\n",
    "# integer_encoded = integer_encoded.reshape(len(integer_encoded), 1)\n",
    "\n",
    "# ### One hot encoding\n",
    "# onehot_encoder = OneHotEncoder(sparse=False)\n",
    "# y_train = onehot_encoder.fit_transform(integer_encoded)\n",
    "\n"
   ]
  },
  {
   "cell_type": "code",
   "execution_count": 70,
   "metadata": {},
   "outputs": [
    {
     "data": {
      "text/plain": [
       "array([[0., 0., 1.],\n",
       "       [0., 0., 1.],\n",
       "       [0., 1., 0.],\n",
       "       ...,\n",
       "       [1., 0., 0.],\n",
       "       [0., 0., 1.],\n",
       "       [1., 0., 0.]], dtype=float32)"
      ]
     },
     "execution_count": 70,
     "metadata": {},
     "output_type": "execute_result"
    }
   ],
   "source": [
    "y_train"
   ]
  },
  {
   "cell_type": "code",
   "execution_count": 71,
   "metadata": {},
   "outputs": [
    {
     "data": {
      "text/plain": [
       "array([[1., 0., 0.],\n",
       "       [0., 1., 0.],\n",
       "       [1., 0., 0.],\n",
       "       ...,\n",
       "       [1., 0., 0.],\n",
       "       [0., 0., 1.],\n",
       "       [0., 0., 1.]], dtype=float32)"
      ]
     },
     "execution_count": 71,
     "metadata": {},
     "output_type": "execute_result"
    }
   ],
   "source": [
    "y_validation"
   ]
  },
  {
   "cell_type": "code",
   "execution_count": 72,
   "metadata": {},
   "outputs": [
    {
     "data": {
      "text/plain": [
       "array([[1., 0., 0.],\n",
       "       [1., 0., 0.],\n",
       "       [1., 0., 0.],\n",
       "       ...,\n",
       "       [0., 0., 1.],\n",
       "       [0., 0., 1.],\n",
       "       [0., 0., 1.]], dtype=float32)"
      ]
     },
     "execution_count": 72,
     "metadata": {},
     "output_type": "execute_result"
    }
   ],
   "source": [
    "y_test"
   ]
  },
  {
   "cell_type": "code",
   "execution_count": 73,
   "metadata": {},
   "outputs": [],
   "source": [
    "X_train=X_train.to_numpy()\n",
    "\n",
    "X_test=X_test.to_numpy()"
   ]
  },
  {
   "cell_type": "code",
   "execution_count": 74,
   "metadata": {},
   "outputs": [],
   "source": [
    "X_validation=X_validation.to_numpy()"
   ]
  },
  {
   "cell_type": "code",
   "execution_count": 75,
   "metadata": {},
   "outputs": [
    {
     "data": {
      "text/plain": [
       "array([[ 0.3930235 ,  0.05707079, -0.3075962 , -0.00290161, -0.03115413,\n",
       "         0.00847575],\n",
       "       [ 0.48250246,  0.573888  , -0.41881466, -0.0364992 ,  0.07757989,\n",
       "         0.07139488],\n",
       "       [ 0.47458458,  0.6829182 , -0.771245  ,  0.01053742, -0.08368854,\n",
       "         0.0622319 ],\n",
       "       ...,\n",
       "       [-2.5373418 , -0.44893068,  0.79844093, -0.02611449,  0.08124508,\n",
       "         0.11110111],\n",
       "       [-0.30474746,  0.20095214,  0.28292656,  0.00442877, -0.0158825 ,\n",
       "         0.01458441],\n",
       "       [-0.2136606 , -1.0284956 ,  0.04707336,  0.04718934,  0.08674286,\n",
       "         0.01214095]])"
      ]
     },
     "execution_count": 75,
     "metadata": {},
     "output_type": "execute_result"
    }
   ],
   "source": [
    "X_train"
   ]
  },
  {
   "cell_type": "code",
   "execution_count": 76,
   "metadata": {},
   "outputs": [
    {
     "data": {
      "text/plain": [
       "numpy.ndarray"
      ]
     },
     "execution_count": 76,
     "metadata": {},
     "output_type": "execute_result"
    }
   ],
   "source": [
    "type(X_train)"
   ]
  },
  {
   "cell_type": "code",
   "execution_count": 77,
   "metadata": {},
   "outputs": [],
   "source": [
    "from tensorflow import keras\n",
    "import tensorflow as tf"
   ]
  },
  {
   "cell_type": "code",
   "execution_count": 78,
   "metadata": {},
   "outputs": [
    {
     "data": {
      "text/plain": [
       "(2550, 6)"
      ]
     },
     "execution_count": 78,
     "metadata": {},
     "output_type": "execute_result"
    }
   ],
   "source": [
    "X_train.shape"
   ]
  },
  {
   "cell_type": "code",
   "execution_count": 79,
   "metadata": {},
   "outputs": [
    {
     "data": {
      "text/plain": [
       "(2550, 3)"
      ]
     },
     "execution_count": 79,
     "metadata": {},
     "output_type": "execute_result"
    }
   ],
   "source": [
    "y_train.shape"
   ]
  },
  {
   "cell_type": "code",
   "execution_count": 80,
   "metadata": {},
   "outputs": [
    {
     "data": {
      "text/plain": [
       "array([[0., 0., 1.],\n",
       "       [0., 0., 1.],\n",
       "       [0., 1., 0.],\n",
       "       ...,\n",
       "       [1., 0., 0.],\n",
       "       [0., 0., 1.],\n",
       "       [1., 0., 0.]], dtype=float32)"
      ]
     },
     "execution_count": 80,
     "metadata": {},
     "output_type": "execute_result"
    }
   ],
   "source": [
    "y_train"
   ]
  },
  {
   "cell_type": "code",
   "execution_count": 81,
   "metadata": {},
   "outputs": [
    {
     "data": {
      "text/plain": [
       "(1094, 6)"
      ]
     },
     "execution_count": 81,
     "metadata": {},
     "output_type": "execute_result"
    }
   ],
   "source": [
    "X_validation.shape"
   ]
  },
  {
   "cell_type": "code",
   "execution_count": 82,
   "metadata": {},
   "outputs": [
    {
     "data": {
      "text/plain": [
       "(1094, 3)"
      ]
     },
     "execution_count": 82,
     "metadata": {},
     "output_type": "execute_result"
    }
   ],
   "source": [
    "y_validation.shape"
   ]
  },
  {
   "cell_type": "code",
   "execution_count": 109,
   "metadata": {},
   "outputs": [],
   "source": [
    "# Define an event that will stop the training\n",
    "# depending of the value of \"val_loss\"\n",
    "# ------------------------------------------------------------------\n",
    "# Will stop training if the \"val_loss\" hasn't improved in 5 epochs.\n",
    "stop_early = tf.keras.callbacks.EarlyStopping(monitor='val_loss', patience=3)"
   ]
  },
  {
   "cell_type": "code",
   "execution_count": 110,
   "metadata": {},
   "outputs": [
    {
     "name": "stdout",
     "output_type": "stream",
     "text": [
      "Epoch 1/50\n",
      "15/15 [==============================] - 1s 13ms/step - loss: 1.0963 - accuracy: 0.3457 - val_loss: 1.0770 - val_accuracy: 0.4154\n",
      "Epoch 2/50\n",
      "15/15 [==============================] - 0s 4ms/step - loss: 1.0773 - accuracy: 0.4132 - val_loss: 1.0610 - val_accuracy: 0.4436\n",
      "Epoch 3/50\n",
      "15/15 [==============================] - 0s 4ms/step - loss: 1.0664 - accuracy: 0.4252 - val_loss: 1.0539 - val_accuracy: 0.4498\n",
      "Epoch 4/50\n",
      "15/15 [==============================] - 0s 4ms/step - loss: 1.0564 - accuracy: 0.4404 - val_loss: 1.0540 - val_accuracy: 0.4279\n",
      "Epoch 5/50\n",
      "15/15 [==============================] - 0s 4ms/step - loss: 1.0498 - accuracy: 0.4367 - val_loss: 1.0491 - val_accuracy: 0.4326\n",
      "Epoch 6/50\n",
      "15/15 [==============================] - 0s 4ms/step - loss: 1.0460 - accuracy: 0.4341 - val_loss: 1.0410 - val_accuracy: 0.4420\n",
      "Epoch 7/50\n",
      "15/15 [==============================] - 0s 4ms/step - loss: 1.0408 - accuracy: 0.4430 - val_loss: 1.0400 - val_accuracy: 0.4373\n",
      "Epoch 8/50\n",
      "15/15 [==============================] - 0s 4ms/step - loss: 1.0354 - accuracy: 0.4540 - val_loss: 1.0395 - val_accuracy: 0.4389\n",
      "Epoch 9/50\n",
      "15/15 [==============================] - 0s 4ms/step - loss: 1.0358 - accuracy: 0.4487 - val_loss: 1.0397 - val_accuracy: 0.4216\n",
      "Epoch 10/50\n",
      "15/15 [==============================] - 0s 4ms/step - loss: 1.0328 - accuracy: 0.4487 - val_loss: 1.0418 - val_accuracy: 0.4451\n",
      "Epoch 11/50\n",
      "15/15 [==============================] - 0s 4ms/step - loss: 1.0308 - accuracy: 0.4540 - val_loss: 1.0363 - val_accuracy: 0.4420\n",
      "Epoch 12/50\n",
      "15/15 [==============================] - 0s 4ms/step - loss: 1.0306 - accuracy: 0.4446 - val_loss: 1.0336 - val_accuracy: 0.4467\n",
      "Epoch 13/50\n",
      "15/15 [==============================] - 0s 4ms/step - loss: 1.0306 - accuracy: 0.4545 - val_loss: 1.0368 - val_accuracy: 0.4420\n",
      "Epoch 14/50\n",
      "15/15 [==============================] - 0s 4ms/step - loss: 1.0276 - accuracy: 0.4529 - val_loss: 1.0345 - val_accuracy: 0.4404\n",
      "Epoch 15/50\n",
      "15/15 [==============================] - 0s 4ms/step - loss: 1.0281 - accuracy: 0.4650 - val_loss: 1.0332 - val_accuracy: 0.4404\n",
      "Epoch 16/50\n",
      "15/15 [==============================] - 0s 4ms/step - loss: 1.0279 - accuracy: 0.4644 - val_loss: 1.0491 - val_accuracy: 0.4295\n",
      "Epoch 17/50\n",
      "15/15 [==============================] - 0s 6ms/step - loss: 1.0248 - accuracy: 0.4623 - val_loss: 1.0362 - val_accuracy: 0.4467\n",
      "Epoch 18/50\n",
      "15/15 [==============================] - 0s 4ms/step - loss: 1.0251 - accuracy: 0.4623 - val_loss: 1.0369 - val_accuracy: 0.4467\n"
     ]
    },
    {
     "data": {
      "text/plain": [
       "<keras.src.callbacks.History at 0x25e2a93d810>"
      ]
     },
     "execution_count": 110,
     "metadata": {},
     "output_type": "execute_result"
    }
   ],
   "source": [
    "model = keras.Sequential()\n",
    "# model.add(keras.layers.Flatten(input_shape=(6, )))\n",
    "# model.add(keras.layers.Dense(64, activation=\"relu\"))\n",
    "model.add(keras.layers.Dense(128, activation=\"relu\"))\n",
    "\n",
    "model.add(keras.layers.Dense(128, activation=\"relu\"))\n",
    "model.add(keras.layers.Dense(3, activation=\"softmax\"))\n",
    "\n",
    "\n",
    "\n",
    "\n",
    "\n",
    "model.compile(optimizer='rmsprop', loss=\"categorical_crossentropy\", metrics=[\"accuracy\"])\n",
    "# model.fit(X_train, y_train, epochs=50, batch_size=200, callbacks=[stop_early],validation_data=(X_validation,y_validation))\n",
    "model.fit(X_train, y_train, epochs=50, batch_size=128, callbacks=[stop_early],validation_split=0.25)\n"
   ]
  },
  {
   "cell_type": "code",
   "execution_count": 111,
   "metadata": {},
   "outputs": [
    {
     "name": "stdout",
     "output_type": "stream",
     "text": [
      "97/97 [==============================] - 0s 1ms/step\n"
     ]
    },
    {
     "data": {
      "text/plain": [
       "2"
      ]
     },
     "execution_count": 111,
     "metadata": {},
     "output_type": "execute_result"
    }
   ],
   "source": [
    "predictions = model.predict(X_test)\n",
    "predictions[0].argmax()"
   ]
  },
  {
   "cell_type": "code",
   "execution_count": 112,
   "metadata": {},
   "outputs": [
    {
     "data": {
      "text/plain": [
       "array([0.19744529, 0.37212995, 0.43042484], dtype=float32)"
      ]
     },
     "execution_count": 112,
     "metadata": {},
     "output_type": "execute_result"
    }
   ],
   "source": [
    "predictions[0]"
   ]
  },
  {
   "cell_type": "code",
   "execution_count": 113,
   "metadata": {},
   "outputs": [
    {
     "data": {
      "text/plain": [
       "array([[1., 0., 0.],\n",
       "       [1., 0., 0.],\n",
       "       [1., 0., 0.],\n",
       "       ...,\n",
       "       [0., 0., 1.],\n",
       "       [0., 0., 1.],\n",
       "       [0., 0., 1.]], dtype=float32)"
      ]
     },
     "execution_count": 113,
     "metadata": {},
     "output_type": "execute_result"
    }
   ],
   "source": [
    "y_test"
   ]
  },
  {
   "cell_type": "code",
   "execution_count": 114,
   "metadata": {},
   "outputs": [
    {
     "data": {
      "text/plain": [
       "array([1., 0., 0.], dtype=float32)"
      ]
     },
     "execution_count": 114,
     "metadata": {},
     "output_type": "execute_result"
    }
   ],
   "source": [
    "y_test[0]"
   ]
  },
  {
   "cell_type": "code",
   "execution_count": 115,
   "metadata": {},
   "outputs": [
    {
     "data": {
      "text/plain": [
       "array([0.18098646, 0.37659055, 0.44242305], dtype=float32)"
      ]
     },
     "execution_count": 115,
     "metadata": {},
     "output_type": "execute_result"
    }
   ],
   "source": [
    "predictions[10]"
   ]
  },
  {
   "cell_type": "code",
   "execution_count": 116,
   "metadata": {},
   "outputs": [
    {
     "name": "stdout",
     "output_type": "stream",
     "text": [
      "97/97 [==============================] - 0s 1ms/step - loss: 1.0511 - accuracy: 0.4342\n"
     ]
    }
   ],
   "source": [
    "# Get the metrics for our trained model\n",
    "eval_result = model.evaluate(X_test, y_test)"
   ]
  },
  {
   "cell_type": "code",
   "execution_count": 117,
   "metadata": {},
   "outputs": [
    {
     "data": {
      "text/html": [
       "<div>\n",
       "<style scoped>\n",
       "    .dataframe tbody tr th:only-of-type {\n",
       "        vertical-align: middle;\n",
       "    }\n",
       "\n",
       "    .dataframe tbody tr th {\n",
       "        vertical-align: top;\n",
       "    }\n",
       "\n",
       "    .dataframe thead th {\n",
       "        text-align: right;\n",
       "    }\n",
       "</style>\n",
       "<table border=\"1\" class=\"dataframe\">\n",
       "  <thead>\n",
       "    <tr style=\"text-align: right;\">\n",
       "      <th></th>\n",
       "      <th>AGGRESSIVE</th>\n",
       "      <th>NORMAL</th>\n",
       "      <th>SLOW</th>\n",
       "    </tr>\n",
       "  </thead>\n",
       "  <tbody>\n",
       "    <tr>\n",
       "      <th>0</th>\n",
       "      <td>0.197445</td>\n",
       "      <td>0.372130</td>\n",
       "      <td>0.430425</td>\n",
       "    </tr>\n",
       "    <tr>\n",
       "      <th>1</th>\n",
       "      <td>0.191629</td>\n",
       "      <td>0.375437</td>\n",
       "      <td>0.432934</td>\n",
       "    </tr>\n",
       "    <tr>\n",
       "      <th>2</th>\n",
       "      <td>0.999771</td>\n",
       "      <td>0.000187</td>\n",
       "      <td>0.000042</td>\n",
       "    </tr>\n",
       "    <tr>\n",
       "      <th>3</th>\n",
       "      <td>0.999697</td>\n",
       "      <td>0.000255</td>\n",
       "      <td>0.000048</td>\n",
       "    </tr>\n",
       "    <tr>\n",
       "      <th>4</th>\n",
       "      <td>0.999517</td>\n",
       "      <td>0.000372</td>\n",
       "      <td>0.000111</td>\n",
       "    </tr>\n",
       "    <tr>\n",
       "      <th>...</th>\n",
       "      <td>...</td>\n",
       "      <td>...</td>\n",
       "      <td>...</td>\n",
       "    </tr>\n",
       "    <tr>\n",
       "      <th>3079</th>\n",
       "      <td>0.574597</td>\n",
       "      <td>0.185794</td>\n",
       "      <td>0.239610</td>\n",
       "    </tr>\n",
       "    <tr>\n",
       "      <th>3080</th>\n",
       "      <td>0.179135</td>\n",
       "      <td>0.377151</td>\n",
       "      <td>0.443714</td>\n",
       "    </tr>\n",
       "    <tr>\n",
       "      <th>3081</th>\n",
       "      <td>0.531641</td>\n",
       "      <td>0.154107</td>\n",
       "      <td>0.314252</td>\n",
       "    </tr>\n",
       "    <tr>\n",
       "      <th>3082</th>\n",
       "      <td>0.306015</td>\n",
       "      <td>0.394012</td>\n",
       "      <td>0.299973</td>\n",
       "    </tr>\n",
       "    <tr>\n",
       "      <th>3083</th>\n",
       "      <td>0.321993</td>\n",
       "      <td>0.289759</td>\n",
       "      <td>0.388248</td>\n",
       "    </tr>\n",
       "  </tbody>\n",
       "</table>\n",
       "<p>3084 rows × 3 columns</p>\n",
       "</div>"
      ],
      "text/plain": [
       "      AGGRESSIVE    NORMAL      SLOW\n",
       "0       0.197445  0.372130  0.430425\n",
       "1       0.191629  0.375437  0.432934\n",
       "2       0.999771  0.000187  0.000042\n",
       "3       0.999697  0.000255  0.000048\n",
       "4       0.999517  0.000372  0.000111\n",
       "...          ...       ...       ...\n",
       "3079    0.574597  0.185794  0.239610\n",
       "3080    0.179135  0.377151  0.443714\n",
       "3081    0.531641  0.154107  0.314252\n",
       "3082    0.306015  0.394012  0.299973\n",
       "3083    0.321993  0.289759  0.388248\n",
       "\n",
       "[3084 rows x 3 columns]"
      ]
     },
     "execution_count": 117,
     "metadata": {},
     "output_type": "execute_result"
    }
   ],
   "source": [
    "# Transform the predicted scores array to a pretty Dataframe ^^\n",
    "df_predicted = pd.DataFrame(predictions, columns=['AGGRESSIVE', 'NORMAL', 'SLOW'])\n",
    "df_predicted"
   ]
  },
  {
   "cell_type": "code",
   "execution_count": 118,
   "metadata": {},
   "outputs": [
    {
     "data": {
      "text/html": [
       "<div>\n",
       "<style scoped>\n",
       "    .dataframe tbody tr th:only-of-type {\n",
       "        vertical-align: middle;\n",
       "    }\n",
       "\n",
       "    .dataframe tbody tr th {\n",
       "        vertical-align: top;\n",
       "    }\n",
       "\n",
       "    .dataframe thead th {\n",
       "        text-align: right;\n",
       "    }\n",
       "</style>\n",
       "<table border=\"1\" class=\"dataframe\">\n",
       "  <thead>\n",
       "    <tr style=\"text-align: right;\">\n",
       "      <th></th>\n",
       "      <th>Original Class</th>\n",
       "    </tr>\n",
       "  </thead>\n",
       "  <tbody>\n",
       "    <tr>\n",
       "      <th>0</th>\n",
       "      <td>AGGRESSIVE</td>\n",
       "    </tr>\n",
       "    <tr>\n",
       "      <th>1</th>\n",
       "      <td>AGGRESSIVE</td>\n",
       "    </tr>\n",
       "    <tr>\n",
       "      <th>2</th>\n",
       "      <td>AGGRESSIVE</td>\n",
       "    </tr>\n",
       "    <tr>\n",
       "      <th>3</th>\n",
       "      <td>AGGRESSIVE</td>\n",
       "    </tr>\n",
       "    <tr>\n",
       "      <th>4</th>\n",
       "      <td>AGGRESSIVE</td>\n",
       "    </tr>\n",
       "    <tr>\n",
       "      <th>...</th>\n",
       "      <td>...</td>\n",
       "    </tr>\n",
       "    <tr>\n",
       "      <th>3079</th>\n",
       "      <td>SLOW</td>\n",
       "    </tr>\n",
       "    <tr>\n",
       "      <th>3080</th>\n",
       "      <td>SLOW</td>\n",
       "    </tr>\n",
       "    <tr>\n",
       "      <th>3081</th>\n",
       "      <td>SLOW</td>\n",
       "    </tr>\n",
       "    <tr>\n",
       "      <th>3082</th>\n",
       "      <td>SLOW</td>\n",
       "    </tr>\n",
       "    <tr>\n",
       "      <th>3083</th>\n",
       "      <td>SLOW</td>\n",
       "    </tr>\n",
       "  </tbody>\n",
       "</table>\n",
       "<p>3084 rows × 1 columns</p>\n",
       "</div>"
      ],
      "text/plain": [
       "     Original Class\n",
       "0        AGGRESSIVE\n",
       "1        AGGRESSIVE\n",
       "2        AGGRESSIVE\n",
       "3        AGGRESSIVE\n",
       "4        AGGRESSIVE\n",
       "...             ...\n",
       "3079           SLOW\n",
       "3080           SLOW\n",
       "3081           SLOW\n",
       "3082           SLOW\n",
       "3083           SLOW\n",
       "\n",
       "[3084 rows x 1 columns]"
      ]
     },
     "execution_count": 118,
     "metadata": {},
     "output_type": "execute_result"
    }
   ],
   "source": [
    "# Reverse the one hot encoded vector\n",
    "actual_y_test = np.argmax(y_test, axis=1)\n",
    "array_actual = labelEncoder.inverse_transform(actual_y_test)\n",
    "\n",
    "# Transform the given class array to a Dataframe\n",
    "df_actual = pd.DataFrame(array_actual, columns = ['Original Class'])\n",
    "df_actual"
   ]
  },
  {
   "cell_type": "code",
   "execution_count": 119,
   "metadata": {},
   "outputs": [
    {
     "data": {
      "text/html": [
       "<div>\n",
       "<style scoped>\n",
       "    .dataframe tbody tr th:only-of-type {\n",
       "        vertical-align: middle;\n",
       "    }\n",
       "\n",
       "    .dataframe tbody tr th {\n",
       "        vertical-align: top;\n",
       "    }\n",
       "\n",
       "    .dataframe thead th {\n",
       "        text-align: right;\n",
       "    }\n",
       "</style>\n",
       "<table border=\"1\" class=\"dataframe\">\n",
       "  <thead>\n",
       "    <tr style=\"text-align: right;\">\n",
       "      <th></th>\n",
       "      <th>AGGRESSIVE</th>\n",
       "      <th>NORMAL</th>\n",
       "      <th>SLOW</th>\n",
       "      <th>Original Class</th>\n",
       "    </tr>\n",
       "  </thead>\n",
       "  <tbody>\n",
       "    <tr>\n",
       "      <th>0</th>\n",
       "      <td>0.197445</td>\n",
       "      <td>0.372130</td>\n",
       "      <td>0.430425</td>\n",
       "      <td>AGGRESSIVE</td>\n",
       "    </tr>\n",
       "    <tr>\n",
       "      <th>1</th>\n",
       "      <td>0.191629</td>\n",
       "      <td>0.375437</td>\n",
       "      <td>0.432934</td>\n",
       "      <td>AGGRESSIVE</td>\n",
       "    </tr>\n",
       "    <tr>\n",
       "      <th>2</th>\n",
       "      <td>0.999771</td>\n",
       "      <td>0.000187</td>\n",
       "      <td>0.000042</td>\n",
       "      <td>AGGRESSIVE</td>\n",
       "    </tr>\n",
       "    <tr>\n",
       "      <th>3</th>\n",
       "      <td>0.999697</td>\n",
       "      <td>0.000255</td>\n",
       "      <td>0.000048</td>\n",
       "      <td>AGGRESSIVE</td>\n",
       "    </tr>\n",
       "    <tr>\n",
       "      <th>4</th>\n",
       "      <td>0.999517</td>\n",
       "      <td>0.000372</td>\n",
       "      <td>0.000111</td>\n",
       "      <td>AGGRESSIVE</td>\n",
       "    </tr>\n",
       "    <tr>\n",
       "      <th>...</th>\n",
       "      <td>...</td>\n",
       "      <td>...</td>\n",
       "      <td>...</td>\n",
       "      <td>...</td>\n",
       "    </tr>\n",
       "    <tr>\n",
       "      <th>3079</th>\n",
       "      <td>0.574597</td>\n",
       "      <td>0.185794</td>\n",
       "      <td>0.239610</td>\n",
       "      <td>SLOW</td>\n",
       "    </tr>\n",
       "    <tr>\n",
       "      <th>3080</th>\n",
       "      <td>0.179135</td>\n",
       "      <td>0.377151</td>\n",
       "      <td>0.443714</td>\n",
       "      <td>SLOW</td>\n",
       "    </tr>\n",
       "    <tr>\n",
       "      <th>3081</th>\n",
       "      <td>0.531641</td>\n",
       "      <td>0.154107</td>\n",
       "      <td>0.314252</td>\n",
       "      <td>SLOW</td>\n",
       "    </tr>\n",
       "    <tr>\n",
       "      <th>3082</th>\n",
       "      <td>0.306015</td>\n",
       "      <td>0.394012</td>\n",
       "      <td>0.299973</td>\n",
       "      <td>SLOW</td>\n",
       "    </tr>\n",
       "    <tr>\n",
       "      <th>3083</th>\n",
       "      <td>0.321993</td>\n",
       "      <td>0.289759</td>\n",
       "      <td>0.388248</td>\n",
       "      <td>SLOW</td>\n",
       "    </tr>\n",
       "  </tbody>\n",
       "</table>\n",
       "<p>3084 rows × 4 columns</p>\n",
       "</div>"
      ],
      "text/plain": [
       "      AGGRESSIVE    NORMAL      SLOW Original Class\n",
       "0       0.197445  0.372130  0.430425     AGGRESSIVE\n",
       "1       0.191629  0.375437  0.432934     AGGRESSIVE\n",
       "2       0.999771  0.000187  0.000042     AGGRESSIVE\n",
       "3       0.999697  0.000255  0.000048     AGGRESSIVE\n",
       "4       0.999517  0.000372  0.000111     AGGRESSIVE\n",
       "...          ...       ...       ...            ...\n",
       "3079    0.574597  0.185794  0.239610           SLOW\n",
       "3080    0.179135  0.377151  0.443714           SLOW\n",
       "3081    0.531641  0.154107  0.314252           SLOW\n",
       "3082    0.306015  0.394012  0.299973           SLOW\n",
       "3083    0.321993  0.289759  0.388248           SLOW\n",
       "\n",
       "[3084 rows x 4 columns]"
      ]
     },
     "execution_count": 119,
     "metadata": {},
     "output_type": "execute_result"
    }
   ],
   "source": [
    "# Combine the actual and resulted classes\n",
    "df_result = pd.concat([df_predicted, df_actual], axis=1)\n",
    "df_result"
   ]
  }
 ],
 "metadata": {
  "kernelspec": {
   "display_name": "Ch4",
   "language": "python",
   "name": "python3"
  },
  "language_info": {
   "codemirror_mode": {
    "name": "ipython",
    "version": 3
   },
   "file_extension": ".py",
   "mimetype": "text/x-python",
   "name": "python",
   "nbconvert_exporter": "python",
   "pygments_lexer": "ipython3",
   "version": "3.10.4"
  },
  "orig_nbformat": 4
 },
 "nbformat": 4,
 "nbformat_minor": 2
}
